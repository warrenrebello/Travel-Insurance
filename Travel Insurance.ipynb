{
 "cells": [
  {
   "cell_type": "markdown",
   "metadata": {},
   "source": [
    "# Machine Learning Project\n",
    "\n",
    "##### The goal of this project is to create a model that can predict for whether a customer can claim for Travel Insurance or not.\n",
    "\n",
    "#### Problem Statement\n",
    "##### Insurance companies take risks over customers. Risk management is a very important aspect of the insurance industry. Insurers consider every quantifiable factor to develop profiles of high and low insurance risks. Insurers collect vast amounts of information about policyholders and analyse the data. As a Data scientist in an insurance company, you need to analyse the available data and predict whether to approve the insurance or not.\n",
    "\n",
    "\n",
    "##### The Steps performed will be mentioned as we go through the project."
   ]
  },
  {
   "cell_type": "code",
   "execution_count": 1,
   "metadata": {},
   "outputs": [],
   "source": [
    "# Basic Imports\n",
    "import numpy as np\n",
    "import pandas as pd\n",
    "import matplotlib.pyplot as plt\n",
    "import seaborn as sns\n",
    "\n",
    "# Cross-Validation\n",
    "from sklearn.model_selection import train_test_split\n",
    "\n",
    "# LabelEncoding\n",
    "from sklearn.preprocessing import LabelEncoder\n",
    "\n",
    "# Evaluation\n",
    "from sklearn.metrics import classification_report\n",
    "\n",
    "# Scaling\n",
    "from sklearn.preprocessing import MinMaxScaler\n",
    "\n",
    "# Ridge, Lasso\n",
    "from sklearn.linear_model import Ridge, Lasso\n",
    "\n",
    "# Logistic Regression\n",
    "from sklearn.linear_model import LogisticRegression\n",
    "\n",
    "# Decision Tree\n",
    "from sklearn.tree import DecisionTreeClassifier\n",
    "\n",
    "# GridSearchCV\n",
    "from sklearn.model_selection import GridSearchCV\n",
    "\n",
    "# Boosting, RandomForest\n",
    "from sklearn.ensemble import AdaBoostClassifier, GradientBoostingClassifier, RandomForestClassifier\n",
    "from xgboost import XGBClassifier\n",
    "\n",
    "# Ensemble\n",
    "from sklearn.ensemble import VotingClassifier, BaggingClassifier\n",
    "\n",
    "# Feature Selection\n",
    "from sklearn.feature_selection import chi2, SelectKBest\n",
    "\n",
    "# SVM\n",
    "from sklearn.svm import LinearSVC, SVC\n",
    "\n",
    "# Skewness\n",
    "from scipy.stats import skew\n",
    "\n",
    "# Over and Under Sampling\n",
    "from imblearn.over_sampling import RandomOverSampler \n",
    "from imblearn.under_sampling import RandomUnderSampler\n",
    "from collections import Counter\n",
    "\n",
    "# Pickle\n",
    "import pickle\n",
    "\n",
    "# Ignore Warnings\n",
    "import warnings\n",
    "warnings.filterwarnings(\"ignore\")"
   ]
  },
  {
   "cell_type": "code",
   "execution_count": 2,
   "metadata": {},
   "outputs": [
    {
     "name": "stdout",
     "output_type": "stream",
     "text": [
      "(50553, 12)\n"
     ]
    },
    {
     "data": {
      "text/html": [
       "<div>\n",
       "<style scoped>\n",
       "    .dataframe tbody tr th:only-of-type {\n",
       "        vertical-align: middle;\n",
       "    }\n",
       "\n",
       "    .dataframe tbody tr th {\n",
       "        vertical-align: top;\n",
       "    }\n",
       "\n",
       "    .dataframe thead th {\n",
       "        text-align: right;\n",
       "    }\n",
       "</style>\n",
       "<table border=\"1\" class=\"dataframe\">\n",
       "  <thead>\n",
       "    <tr style=\"text-align: right;\">\n",
       "      <th></th>\n",
       "      <th>ID</th>\n",
       "      <th>Agency</th>\n",
       "      <th>Agency Type</th>\n",
       "      <th>Distribution Channel</th>\n",
       "      <th>Product Name</th>\n",
       "      <th>Claim</th>\n",
       "      <th>Duration</th>\n",
       "      <th>Destination</th>\n",
       "      <th>Net Sales</th>\n",
       "      <th>Commision (in value)</th>\n",
       "      <th>Gender</th>\n",
       "      <th>Age</th>\n",
       "    </tr>\n",
       "  </thead>\n",
       "  <tbody>\n",
       "    <tr>\n",
       "      <th>0</th>\n",
       "      <td>3433</td>\n",
       "      <td>CWT</td>\n",
       "      <td>Travel Agency</td>\n",
       "      <td>Online</td>\n",
       "      <td>Rental Vehicle Excess Insurance</td>\n",
       "      <td>0</td>\n",
       "      <td>7</td>\n",
       "      <td>MALAYSIA</td>\n",
       "      <td>0.0</td>\n",
       "      <td>17.82</td>\n",
       "      <td>NaN</td>\n",
       "      <td>31</td>\n",
       "    </tr>\n",
       "    <tr>\n",
       "      <th>1</th>\n",
       "      <td>4339</td>\n",
       "      <td>EPX</td>\n",
       "      <td>Travel Agency</td>\n",
       "      <td>Online</td>\n",
       "      <td>Cancellation Plan</td>\n",
       "      <td>0</td>\n",
       "      <td>85</td>\n",
       "      <td>SINGAPORE</td>\n",
       "      <td>69.0</td>\n",
       "      <td>0.00</td>\n",
       "      <td>NaN</td>\n",
       "      <td>36</td>\n",
       "    </tr>\n",
       "    <tr>\n",
       "      <th>2</th>\n",
       "      <td>34590</td>\n",
       "      <td>CWT</td>\n",
       "      <td>Travel Agency</td>\n",
       "      <td>Online</td>\n",
       "      <td>Rental Vehicle Excess Insurance</td>\n",
       "      <td>0</td>\n",
       "      <td>11</td>\n",
       "      <td>MALAYSIA</td>\n",
       "      <td>19.8</td>\n",
       "      <td>11.88</td>\n",
       "      <td>NaN</td>\n",
       "      <td>75</td>\n",
       "    </tr>\n",
       "    <tr>\n",
       "      <th>3</th>\n",
       "      <td>55816</td>\n",
       "      <td>EPX</td>\n",
       "      <td>Travel Agency</td>\n",
       "      <td>Online</td>\n",
       "      <td>2 way Comprehensive Plan</td>\n",
       "      <td>0</td>\n",
       "      <td>16</td>\n",
       "      <td>INDONESIA</td>\n",
       "      <td>20.0</td>\n",
       "      <td>0.00</td>\n",
       "      <td>NaN</td>\n",
       "      <td>32</td>\n",
       "    </tr>\n",
       "    <tr>\n",
       "      <th>4</th>\n",
       "      <td>13816</td>\n",
       "      <td>EPX</td>\n",
       "      <td>Travel Agency</td>\n",
       "      <td>Online</td>\n",
       "      <td>Cancellation Plan</td>\n",
       "      <td>0</td>\n",
       "      <td>10</td>\n",
       "      <td>KOREA, REPUBLIC OF</td>\n",
       "      <td>15.0</td>\n",
       "      <td>0.00</td>\n",
       "      <td>NaN</td>\n",
       "      <td>29</td>\n",
       "    </tr>\n",
       "    <tr>\n",
       "      <th>5</th>\n",
       "      <td>50349</td>\n",
       "      <td>CWT</td>\n",
       "      <td>Travel Agency</td>\n",
       "      <td>Online</td>\n",
       "      <td>Rental Vehicle Excess Insurance</td>\n",
       "      <td>0</td>\n",
       "      <td>64</td>\n",
       "      <td>THAILAND</td>\n",
       "      <td>49.5</td>\n",
       "      <td>29.70</td>\n",
       "      <td>NaN</td>\n",
       "      <td>36</td>\n",
       "    </tr>\n",
       "    <tr>\n",
       "      <th>6</th>\n",
       "      <td>9921</td>\n",
       "      <td>JZI</td>\n",
       "      <td>Airlines</td>\n",
       "      <td>Online</td>\n",
       "      <td>Value Plan</td>\n",
       "      <td>0</td>\n",
       "      <td>23</td>\n",
       "      <td>JAPAN</td>\n",
       "      <td>-69.0</td>\n",
       "      <td>24.15</td>\n",
       "      <td>F</td>\n",
       "      <td>26</td>\n",
       "    </tr>\n",
       "    <tr>\n",
       "      <th>7</th>\n",
       "      <td>21923</td>\n",
       "      <td>JZI</td>\n",
       "      <td>Airlines</td>\n",
       "      <td>Online</td>\n",
       "      <td>Basic Plan</td>\n",
       "      <td>0</td>\n",
       "      <td>31</td>\n",
       "      <td>HONG KONG</td>\n",
       "      <td>26.0</td>\n",
       "      <td>9.10</td>\n",
       "      <td>M</td>\n",
       "      <td>60</td>\n",
       "    </tr>\n",
       "  </tbody>\n",
       "</table>\n",
       "</div>"
      ],
      "text/plain": [
       "      ID Agency    Agency Type Distribution Channel  \\\n",
       "0   3433    CWT  Travel Agency               Online   \n",
       "1   4339    EPX  Travel Agency               Online   \n",
       "2  34590    CWT  Travel Agency               Online   \n",
       "3  55816    EPX  Travel Agency               Online   \n",
       "4  13816    EPX  Travel Agency               Online   \n",
       "5  50349    CWT  Travel Agency               Online   \n",
       "6   9921    JZI       Airlines               Online   \n",
       "7  21923    JZI       Airlines               Online   \n",
       "\n",
       "                      Product Name  Claim  Duration         Destination  \\\n",
       "0  Rental Vehicle Excess Insurance      0         7            MALAYSIA   \n",
       "1                Cancellation Plan      0        85           SINGAPORE   \n",
       "2  Rental Vehicle Excess Insurance      0        11            MALAYSIA   \n",
       "3         2 way Comprehensive Plan      0        16           INDONESIA   \n",
       "4                Cancellation Plan      0        10  KOREA, REPUBLIC OF   \n",
       "5  Rental Vehicle Excess Insurance      0        64            THAILAND   \n",
       "6                       Value Plan      0        23               JAPAN   \n",
       "7                       Basic Plan      0        31           HONG KONG   \n",
       "\n",
       "   Net Sales  Commision (in value) Gender  Age  \n",
       "0        0.0                 17.82    NaN   31  \n",
       "1       69.0                  0.00    NaN   36  \n",
       "2       19.8                 11.88    NaN   75  \n",
       "3       20.0                  0.00    NaN   32  \n",
       "4       15.0                  0.00    NaN   29  \n",
       "5       49.5                 29.70    NaN   36  \n",
       "6      -69.0                 24.15      F   26  \n",
       "7       26.0                  9.10      M   60  "
      ]
     },
     "execution_count": 2,
     "metadata": {},
     "output_type": "execute_result"
    }
   ],
   "source": [
    "# Reading the data and viewing a small part of it to get some understanding of the data.\n",
    "\n",
    "df = pd.read_csv(\"data.csv\")\n",
    "print(df.shape)\n",
    "df.head(8)"
   ]
  },
  {
   "cell_type": "code",
   "execution_count": 3,
   "metadata": {},
   "outputs": [
    {
     "data": {
      "text/plain": [
       "ID                      50553\n",
       "Agency                     16\n",
       "Agency Type                 2\n",
       "Distribution Channel        2\n",
       "Product Name               25\n",
       "Claim                       2\n",
       "Duration                  444\n",
       "Destination               102\n",
       "Net Sales                1053\n",
       "Commision (in value)      964\n",
       "Gender                      2\n",
       "Age                        88\n",
       "dtype: int64"
      ]
     },
     "execution_count": 3,
     "metadata": {},
     "output_type": "execute_result"
    }
   ],
   "source": [
    "# We will get a list of the number of unique values for each column\n",
    "\n",
    "df.nunique()"
   ]
  },
  {
   "cell_type": "code",
   "execution_count": 4,
   "metadata": {},
   "outputs": [
    {
     "name": "stdout",
     "output_type": "stream",
     "text": [
      "<class 'pandas.core.frame.DataFrame'>\n",
      "RangeIndex: 50553 entries, 0 to 50552\n",
      "Data columns (total 12 columns):\n",
      " #   Column                Non-Null Count  Dtype  \n",
      "---  ------                --------------  -----  \n",
      " 0   ID                    50553 non-null  int64  \n",
      " 1   Agency                50553 non-null  object \n",
      " 2   Agency Type           50553 non-null  object \n",
      " 3   Distribution Channel  50553 non-null  object \n",
      " 4   Product Name          50553 non-null  object \n",
      " 5   Claim                 50553 non-null  int64  \n",
      " 6   Duration              50553 non-null  int64  \n",
      " 7   Destination           50553 non-null  object \n",
      " 8   Net Sales             50553 non-null  float64\n",
      " 9   Commision (in value)  50553 non-null  float64\n",
      " 10  Gender                14600 non-null  object \n",
      " 11  Age                   50553 non-null  int64  \n",
      "dtypes: float64(2), int64(4), object(6)\n",
      "memory usage: 4.6+ MB\n"
     ]
    }
   ],
   "source": [
    "# We will check for null values and the Dtype of each feature.\n",
    "\n",
    "df.info()"
   ]
  },
  {
   "cell_type": "code",
   "execution_count": 5,
   "metadata": {},
   "outputs": [
    {
     "data": {
      "text/plain": [
       "ID                       0.000000\n",
       "Agency                   0.000000\n",
       "Agency Type              0.000000\n",
       "Distribution Channel     0.000000\n",
       "Product Name             0.000000\n",
       "Claim                    0.000000\n",
       "Duration                 0.000000\n",
       "Destination              0.000000\n",
       "Net Sales                0.000000\n",
       "Commision (in value)     0.000000\n",
       "Gender                  71.119419\n",
       "Age                      0.000000\n",
       "dtype: float64"
      ]
     },
     "execution_count": 5,
     "metadata": {},
     "output_type": "execute_result"
    }
   ],
   "source": [
    "((df.isnull().sum())*100)/len(df)"
   ]
  },
  {
   "cell_type": "markdown",
   "metadata": {},
   "source": [
    "<b>71% of the Gender column have null values.\n",
    "    <br>We will drop the column as there does not seem to be any other feature that could help us with filling in the missing data."
   ]
  },
  {
   "cell_type": "code",
   "execution_count": 6,
   "metadata": {},
   "outputs": [],
   "source": [
    "df.drop(\"Gender\", axis=1, inplace=True)"
   ]
  },
  {
   "cell_type": "code",
   "execution_count": 7,
   "metadata": {},
   "outputs": [
    {
     "name": "stdout",
     "output_type": "stream",
     "text": [
      "\n",
      "Id                   - [ 3433  4339 34590 ... 54146 28667 50880]\n",
      "\n",
      "Agency               - ['CWT' 'EPX' 'JZI' 'C2B' 'SSI' 'CSR' 'KML' 'RAB' 'ADM' 'JWT' 'LWC' 'TST'\n",
      " 'ART' 'TTW' 'CBH' 'CCR']\n",
      "\n",
      "Agency Type          - ['Travel Agency' 'Airlines']\n",
      "\n",
      "Distribution Channel - ['Online' 'Offline']\n",
      "\n",
      "Product Name         - ['Rental Vehicle Excess Insurance' 'Cancellation Plan'\n",
      " '2 way Comprehensive Plan' 'Value Plan' 'Basic Plan' 'Bronze Plan'\n",
      " 'Ticket Protector' '1 way Comprehensive Plan' 'Comprehensive Plan'\n",
      " 'Silver Plan' 'Premier Plan' 'Annual Silver Plan' 'Annual Gold Plan'\n",
      " 'Single Trip Travel Protect Silver' 'Travel Cruise Protect' '24 Protect'\n",
      " 'Annual Travel Protect Gold' 'Single Trip Travel Protect Platinum'\n",
      " 'Single Trip Travel Protect Gold' 'Spouse or Parents Comprehensive Plan'\n",
      " 'Gold Plan' 'Annual Travel Protect Silver'\n",
      " 'Individual Comprehensive Plan' 'Annual Travel Protect Platinum'\n",
      " 'Child Comprehensive Plan']\n",
      "\n",
      "Claim                - [0 1]\n",
      "\n",
      "Duration             - [   7   85   11   16   10   64   23   31    5  100   71   18   15   20\n",
      "   27  162  240  140    8   36    3   14   50   41   72   26   19    6\n",
      "    1   81  133    2   21   12   30   56  132   55   28   61   69    4\n",
      "   35  386   47   32  102   37   34   40   57   46   58  147   17   70\n",
      "  375  186   13   76   62  431  138  127   74   52   45  192   22  109\n",
      "   29  129  219   80  137   24  198  126  264    9   91    0  307  135\n",
      "   38  166  403   66  365   63  180   87  174   68  125   94   92   43\n",
      "  115  391   77   84   33   65   79   48   73   42   25  101  104  123\n",
      "  373  366   95  106   78  151   75   83  112  364   39  208   97  371\n",
      "   67   59  261  148  367   44   88  167   89  121  182   53  243  110\n",
      "  369   54  202  122  142  163  124  268  150  170  117   49  372   86\n",
      "  390  224  381   99   93  141  374  204  155   60  508   90  387  168\n",
      "  217  252  159  160  116  236  205  247  114  183  370   51  176  190\n",
      "   96   82  119  228  392  156  143  144  378  145  545  153  257  113\n",
      "  189  200  253  191  214  107  108  368  131  377  128  275  199  397\n",
      "  395  310  379  318  380  179  154  118  231  385  105  120  270  399\n",
      "  149  284  384  300  169  146  197  103  255  218  376  196  238  383\n",
      "  244  230  165  161  187  394  181  130  389  188  410  426  111  227\n",
      "  478  195  211  152   98  461  287  164  388  134  427  269  303  249\n",
      "  309  194  233  215   -1  203  157  136  173  305  317  398  178  193\n",
      "  223  416  289  158  382  177  325  490  235  277  428  322  226  411\n",
      "  445  294  206  419  319  222  172  267  175  302  263  297  274  436\n",
      "  400  420  402  547  185  237  245  448  225  417  435  291  418  279\n",
      "  306  248  312  246  472  278  216  272  242  221  456  207  184  296\n",
      "  531  254  241  406  271  260  326  440  220  404  432  330  229  273\n",
      "  286  450  487  234  299  232  251  171 4609  425  285  210  276  421\n",
      "  463  256  209  314  281  139  298  327  401  414 4580  393  412  288\n",
      "  408  396 4685  213  430  311 4736  323  266  351  258  265  304  280\n",
      "  212  352  250  529  444 4844  292  259  201  283  239  334  321  405\n",
      "  433  512 4857  413 4815  424  474  494  350  315 4652  488 4829  282\n",
      "  740  262  293  332  329  316  328  465  342  519  331  290  407  423\n",
      "  457 4738  409 4881  459  295   -2  415  324  434]\n",
      "\n",
      "Destination          - ['MALAYSIA' 'SINGAPORE' 'INDONESIA' 'KOREA, REPUBLIC OF' 'THAILAND'\n",
      " 'JAPAN' 'HONG KONG' 'AUSTRALIA' 'UNITED STATES' 'CHINA' 'SPAIN' 'MEXICO'\n",
      " 'UNITED KINGDOM' 'TAIWAN, PROVINCE OF CHINA' 'CANADA' 'PHILIPPINES'\n",
      " 'ARGENTINA' 'VIET NAM' 'BRUNEI DARUSSALAM' 'UNITED ARAB EMIRATES'\n",
      " 'NORWAY' 'BANGLADESH' 'ISRAEL' 'CAMBODIA' 'INDIA' 'SWITZERLAND'\n",
      " \"LAO PEOPLE'S DEMOCRATIC REPUBLIC\" 'NEW ZEALAND' 'MYANMAR' 'TURKEY'\n",
      " 'FRANCE' 'MALDIVES' 'AUSTRIA' 'PORTUGAL' 'NETHERLANDS' 'ICELAND' 'ITALY'\n",
      " 'GERMANY' 'RUSSIAN FEDERATION' 'NEPAL' 'SLOVENIA' 'PERU' 'GREECE'\n",
      " 'COLOMBIA' 'MAURITIUS' 'IRELAND' 'GEORGIA' 'SRI LANKA' 'SOUTH AFRICA'\n",
      " 'BRAZIL' 'CROATIA' 'FIJI' 'KAZAKHSTAN' 'DENMARK' 'KENYA' 'SWEDEN' 'CHILE'\n",
      " 'MOROCCO' 'FINLAND' 'BOLIVIA' 'TANZANIA, UNITED REPUBLIC OF' 'BELGIUM'\n",
      " 'PAKISTAN' 'SAUDI ARABIA' 'QATAR' 'CZECH REPUBLIC' 'MACAO' 'MALTA'\n",
      " 'UGANDA' 'POLAND' 'BAHRAIN' 'GUAM' 'UZBEKISTAN' 'EGYPT' 'HUNGARY'\n",
      " 'LATVIA' 'JORDAN' 'OMAN' 'ETHIOPIA' 'UKRAINE' 'COSTA RICA' 'ROMANIA'\n",
      " 'MONGOLIA' 'AZERBAIJAN' 'LITHUANIA' 'KUWAIT' 'CYPRUS' 'LEBANON'\n",
      " 'LUXEMBOURG' 'BELARUS' 'ESTONIA' 'TUNISIA' 'VANUATU' 'TURKMENISTAN'\n",
      " 'NORTHERN MARIANA ISLANDS' 'KYRGYZSTAN' 'BERMUDA' 'BHUTAN' 'ZAMBIA'\n",
      " 'VENEZUELA' 'IRAN, ISLAMIC REPUBLIC OF' 'CAYMAN ISLANDS']\n",
      "\n",
      "Net Sales            - [  0.    69.    19.8  ... 145.    42.4   12.58]\n",
      "\n",
      "Commision (In Value) - [1.7820e+01 0.0000e+00 1.1880e+01 2.9700e+01 2.4150e+01 9.1000e+00\n",
      " 4.5000e+00 2.3760e+01 1.9600e+00 9.5700e+00 6.3000e+00 1.5500e+01\n",
      " 4.0000e+00 7.3800e+00 7.7000e+00 4.3100e+00 1.4440e+01 3.1000e-01\n",
      " 4.7520e+01 6.0000e+00 4.1580e+01 1.2950e+01 8.1300e+00 2.7360e+01\n",
      " 5.4000e+01 3.7400e+00 8.3800e+00 2.5600e+00 9.7500e+00 4.6300e+00\n",
      " 1.3650e+01 3.1200e+01 1.5000e+01 9.7340e+01 1.2400e+01 6.8080e+01\n",
      " 2.8130e+01 6.7500e+00 1.4700e+01 3.2180e+01 1.1020e+01 3.5640e+01\n",
      " 1.0500e+01 4.8800e+00 1.5600e+01 5.6300e+00 1.8000e+01 2.5510e+01\n",
      " 5.9400e+00 5.5300e+00 5.8450e+01 6.4380e+01 3.8000e-01 1.6250e+01\n",
      " 6.5340e+01 1.2090e+01 4.0250e+01 1.4000e+01 1.3380e+01 1.6653e+02\n",
      " 2.7300e+01 4.5500e+01 1.2250e+01 6.3210e+01 5.0000e+00 5.8800e+00\n",
      " 1.1700e+01 1.8600e+00 5.9400e+01 1.8200e+01 9.2000e+00 1.7750e+01\n",
      " 1.8600e+01 5.3460e+01 3.7500e+00 1.7710e+01 4.8300e+01 1.7150e+01\n",
      " 1.0000e+01 3.3800e+00 1.3250e+01 3.0450e+01 8.1000e+00 1.3100e+00\n",
      " 1.5750e+01 7.7000e-01 8.8800e+00 3.6000e-01 1.1250e+01 1.2000e+01\n",
      " 3.6100e+01 2.6400e+01 2.0300e+01 6.4800e+01 2.8000e+01 5.8500e+00\n",
      " 4.3900e+00 1.8850e+01 5.1450e+01 2.2050e+01 1.4790e+01 5.2500e+00\n",
      " 8.6300e+00 2.2000e+01 1.7390e+01 1.0640e+01 7.1280e+01 5.9000e+01\n",
      " 8.3600e+00 6.8800e+00 1.2600e+01 1.0250e+01 2.0640e+01 2.1350e+01\n",
      " 4.2500e+00 6.1300e+00 1.5450e+02 4.9600e+01 3.2800e+00 2.2000e-01\n",
      " 1.5560e+01 1.2750e+01 1.1750e+01 7.4000e-01 1.0920e+02 2.4800e+01\n",
      " 7.3500e+00 3.6000e+01 7.6400e+00 2.4000e+01 5.2330e+01 1.6800e+01\n",
      " 1.2380e+01 1.2500e+01 4.6960e+01 1.0150e+01 1.4937e+02 1.4160e+01\n",
      " 3.9000e+00 1.8620e+01 1.1550e+01 1.7850e+01 4.3550e+01 5.2000e+00\n",
      " 2.0850e+01 1.7380e+01 1.3500e+01 3.6100e+00 1.9500e+01 2.0000e+01\n",
      " 1.4100e+01 3.4250e+01 2.9050e+01 2.1130e+01 2.4100e+00 6.9000e-01\n",
      " 2.0380e+01 3.4100e+00 8.3160e+01 2.8500e+01 3.3950e+01 1.6750e+01\n",
      " 1.3160e+01 1.2540e+01 4.1270e+01 8.9100e+01 1.0725e+02 1.6450e+01\n",
      " 6.6600e+00 1.2130e+01 2.2250e+01 5.1000e-01 5.0600e+00 2.7400e+00\n",
      " 3.7200e+01 5.7500e+00 1.7500e+01 2.7600e+00 3.8350e+01 4.8420e+01\n",
      " 6.0100e+00 2.2230e+01 2.8690e+01 8.3250e+01 4.0000e+01 2.9750e+01\n",
      " 3.8150e+01 3.2680e+01 2.7500e+01 6.5600e+00 1.3068e+02 1.0050e+01\n",
      " 2.8100e+00 2.0150e+01 2.5000e-01 3.2300e+00 5.6000e-01 8.8100e+00\n",
      " 2.8600e+01 9.5900e+00 2.0200e+00 9.5040e+01 4.3750e+01 4.4000e+00\n",
      " 7.7220e+01 1.1540e+01 6.6300e+00 8.7700e+00 2.3600e+01 2.2130e+01\n",
      " 6.0000e+01 1.1500e+01 4.2180e+01 4.9400e+01 1.6950e+01 1.3200e+01\n",
      " 3.2100e+00 1.0900e+00 2.3750e+01 1.3630e+01 2.7500e+00 2.9500e+01\n",
      " 4.1420e+01 7.2940e+01 3.7000e-01 2.0800e+02 1.3450e+02 6.3800e+00\n",
      " 3.9000e+01 1.4130e+01 1.5400e+01 1.8000e+00 5.7400e+01 1.3662e+02\n",
      " 2.6550e+01 3.5630e+01 4.2350e+01 1.1600e+00 3.3300e+00 7.1600e+00\n",
      " 3.3600e+01 2.0960e+01 9.4000e-01 1.6000e-01 8.9000e+00 5.4190e+01\n",
      " 8.5000e+00 5.9300e+00 7.1300e+00 2.0000e-01 1.8380e+01 5.0490e+01\n",
      " 1.4300e+00 1.0098e+02 3.1530e+01 2.1850e+01 1.7230e+01 7.1250e+01\n",
      " 2.8250e+01 7.5250e+01 1.5000e-01 1.6410e+01 7.4700e+00 1.2140e+01\n",
      " 5.9880e+01 3.2830e+01 2.5680e+01 2.2360e+01 1.1380e+01 2.1021e+02\n",
      " 1.8400e+00 8.5600e+00 1.6650e+02 2.4600e+00 8.8000e-01 1.1860e+01\n",
      " 3.0250e+01 1.7250e+01 1.2630e+01 7.2500e+00 4.8000e+00 2.1600e+01\n",
      " 3.1540e+01 1.5380e+01 3.4600e+00 1.0890e+01 1.4950e+02 2.8800e+00\n",
      " 8.2200e+00 1.3299e+02 3.4130e+01 1.0130e+01 6.5160e+01 2.0300e+00\n",
      " 1.4250e+01 3.2500e+01 2.9500e+00 4.0750e+01 7.9600e+00 4.0500e+00\n",
      " 5.0000e-01 2.0800e+01 1.5100e+00 1.9140e+01 2.0650e+01 1.4975e+02\n",
      " 1.3310e+01 1.1800e+00 7.9100e+00 2.0060e+01 2.9200e+00 9.0000e-01\n",
      " 1.5880e+01 1.2050e+02 2.6000e+01 5.5860e+01 4.0950e+01 1.0822e+02\n",
      " 1.6090e+01 1.0380e+01 6.2500e+00 2.0000e+00 5.9100e+00 9.9000e-01\n",
      " 3.8020e+01 1.9600e+01 2.6000e-01 2.2100e+01 1.0800e+02 1.7550e+01\n",
      " 1.6350e+01 6.9710e+01 1.7630e+01 1.4880e+01 1.6900e+01 1.9070e+01\n",
      " 2.0000e-02 1.1200e+00 2.6750e+01 4.2800e+00 1.0800e+00 1.4750e+01\n",
      " 2.9000e+00 9.9900e+01 3.0200e+00 2.3450e+01 7.1830e+01 7.0200e+01\n",
      " 7.9500e+00 2.3500e+01 6.0040e+01 3.1500e+00 6.8000e-01 7.5000e+00\n",
      " 4.2000e+00 9.6000e-01 2.2910e+01 4.6250e+01 1.1210e+01 8.1200e+01\n",
      " 4.5000e-01 3.1690e+01 2.9130e+01 1.3000e+00 2.2040e+01 1.3700e+00\n",
      " 1.7540e+01 7.7600e+00 7.0250e+01 1.4850e+02 2.2000e+00 4.7200e+00\n",
      " 7.2800e+01 1.2940e+01 1.0255e+02 9.3600e+01 6.9400e+00 1.0692e+02\n",
      " 2.6276e+02 3.1000e+01 1.9250e+01 5.1750e+01 1.2474e+02 1.2400e+00\n",
      " 3.1380e+01 2.0995e+02 2.3000e-01 6.9600e+00 7.1850e+01 2.1450e+01\n",
      " 1.2450e+01 6.9300e+01 3.1000e+00 2.8850e+01 2.7250e+01 1.7820e+02\n",
      " 5.5500e+00 7.8900e+00 1.6300e+00 2.3730e+01 2.0280e+01 1.3950e+01\n",
      " 2.1500e+00 1.5190e+01 4.4840e+01 3.1880e+01 1.4630e+01 2.0250e+01\n",
      " 2.2750e+01 5.2600e+00 3.4380e+01 8.0500e+01 2.2400e+00 1.1060e+01\n",
      " 1.3490e+01 9.2500e+00 2.1700e+00 2.3630e+01 1.4550e+01 1.7050e+02\n",
      " 9.9700e+00 8.2500e+00 1.1880e+02 1.1286e+02 3.6400e+01 9.7250e+01\n",
      " 8.6000e-01 2.3180e+01 2.4380e+01 1.4460e+01 1.1900e+01 3.8000e+01\n",
      " 8.2100e+00 1.1425e+02 1.8240e+01 1.4380e+01 1.2288e+02 9.0000e+00\n",
      " 1.7130e+01 1.0100e+00 2.5130e+01 4.8590e+01 1.1000e+00 5.1300e+00\n",
      " 5.4000e-01 1.4800e+00 5.9000e-01 1.5440e+01 5.0000e-02 9.6000e+01\n",
      " 6.2650e+01 3.9250e+01 1.6160e+01 1.5930e+01 6.8400e+00 4.9400e+00\n",
      " 2.7000e-01 8.5130e+01 1.2875e+02 5.9150e+01 4.0200e+00 8.7600e+00\n",
      " 2.6400e+00 2.4000e-01 2.3400e+01 2.6500e+01 1.3406e+02 2.2200e+00\n",
      " 1.6600e+00 6.6250e+01 3.8000e+00 1.7500e+00 6.4700e+00 2.8760e+01\n",
      " 2.9600e+00 2.7190e+01 6.3200e+00 9.3000e+00 2.1600e+00 1.5400e+00\n",
      " 2.0880e+01 6.3000e-01 2.3060e+01 8.0500e+00 9.7000e-01 3.6800e+00\n",
      " 1.1800e+02 7.2000e+01 2.0130e+01 5.9800e+00 8.8500e+00 4.9100e+00\n",
      " 3.2000e-01 1.2300e+00 1.5280e+01 1.2500e+00 2.6260e+02 1.8671e+02\n",
      " 2.7300e+00 3.2200e+01 9.2600e+00 4.3250e+01 1.3000e-01 9.5000e-01\n",
      " 2.5620e+01 5.6000e+00 1.1720e+01 2.0600e+00 3.1750e+01 2.1630e+01\n",
      " 6.4050e+01 1.3200e+00 1.2560e+01 2.2960e+01 2.4500e+01 4.1800e+00\n",
      " 3.9330e+01 2.0700e+01 6.2000e+00 1.6000e+00 4.5400e+00 2.0480e+01\n",
      " 4.8000e+01 1.6800e+00 5.0700e+01 4.4690e+01 8.9380e+01 1.2300e+01\n",
      " 7.5000e-01 5.1200e+00 1.9630e+01 7.0000e-01 2.4500e+00 2.6980e+01\n",
      " 6.6000e-01 8.7000e+00 2.2470e+01 9.1900e+00 8.0000e+00 2.3290e+01\n",
      " 9.0000e-02 7.5600e+01 1.6500e+01 7.8280e+01 7.4100e+01 1.1700e+00\n",
      " 3.5200e+00 4.0300e+00 3.9400e+00 1.2775e+02 1.8800e+00 6.9900e+00\n",
      " 2.5840e+01 1.0200e+00 2.5550e+01 1.1130e+01 3.6000e+00 2.4450e+01\n",
      " 1.2900e+00 2.4860e+01 2.5200e+01 2.1500e+01 1.1110e+01 3.8500e+01\n",
      " 1.9350e+01 3.3900e+00 4.9650e+01 5.7130e+01 3.5000e+01 5.2150e+01\n",
      " 1.2200e+00 1.9340e+01 3.0100e+00 2.0750e+01 1.0300e+00 1.0630e+01\n",
      " 3.7700e+00 1.3690e+01 8.2360e+01 4.8630e+01 3.5500e+00 1.6640e+02\n",
      " 9.5500e+01 3.7130e+01 1.2100e+00 5.6250e+01 3.0550e+01 1.8560e+01\n",
      " 4.7880e+01 6.3350e+01 1.9010e+01 2.9000e-01 1.1340e+01 4.3800e+00\n",
      " 4.6800e+01 2.0690e+01 1.8730e+01 6.3750e+01 1.6038e+02 2.6200e+00\n",
      " 1.8800e+01 3.8250e+01 4.6400e+00 3.1400e+00 2.0440e+01 5.7900e+00\n",
      " 4.4200e+00 6.5000e-01 8.0000e+01 2.8950e+01 1.9700e+00 1.9130e+01\n",
      " 1.2070e+01 1.6400e+00 4.1000e-01 1.0600e+00 7.1000e-01 7.8000e+01\n",
      " 1.7300e+00 1.7226e+02 3.6560e+01 1.3300e+00 2.8800e+01 1.7290e+01\n",
      " 1.8130e+01 9.3800e+00 3.4500e+00 8.7500e+00 1.4500e+01 1.6900e+00\n",
      " 8.2600e+01 4.7290e+01 1.6570e+01 3.3130e+01 2.3800e+00 3.9200e+00\n",
      " 1.5960e+01 2.9570e+01 3.0000e+01 3.4000e-01 2.2300e+00 5.5480e+01\n",
      " 3.5590e+01 1.4000e-01 2.5880e+01 1.1231e+02 1.3920e+01 1.3570e+01\n",
      " 1.5900e+01 1.2600e+00 3.0500e+00 8.4900e+00 8.4130e+01 5.4500e+01\n",
      " 4.6400e+01 6.9250e+01 7.6900e+00 1.9900e+00 1.6632e+02 1.0220e+01\n",
      " 1.5300e+00 8.0000e-01 4.7000e-01 2.4750e+01 2.0980e+01 2.4090e+01\n",
      " 3.3200e+00 4.0400e+00 3.2500e+00 3.0710e+01 1.3210e+01 1.4256e+02\n",
      " 7.0200e+00 1.5500e+00 2.5200e+00 8.5200e+01 5.0250e+01 8.9600e+00\n",
      " 1.3880e+01 4.4500e+01 3.3800e+01 3.0400e+00 1.7200e+00 3.4750e+01\n",
      " 7.3450e+01 2.7460e+01 3.6860e+01 5.1980e+01 8.7800e+00 2.3250e+01\n",
      " 4.7400e+00 1.1200e+01 1.2675e+02 7.8000e-01 1.0000e+00 8.1130e+01\n",
      " 7.2130e+01 3.6200e+00 5.0130e+01 5.7600e+01 5.7040e+01 6.9160e+01\n",
      " 4.6000e+00 7.0500e+00 1.8200e+00 7.6700e+00 8.0600e+00 7.3250e+01\n",
      " 1.0850e+01 2.0816e+02 8.5000e-01 1.1630e+01 4.4700e+00 7.3600e+01\n",
      " 4.3470e+01 4.1300e+00 3.4500e+01 8.0440e+01 2.9440e+01 2.9380e+01\n",
      " 4.9730e+01 9.4500e+00 3.0800e+00 5.3800e+00 4.0130e+01 2.5520e+01\n",
      " 4.1380e+01 2.4300e+01 2.2500e+00 7.4260e+01 1.8900e+01 1.3400e+00\n",
      " 3.3500e+00 1.8300e+00 1.2700e+00 1.3130e+01 7.9630e+01 2.4850e+01\n",
      " 5.9500e+00 1.7160e+02 4.2000e-01 6.3380e+01 2.5080e+01 5.6000e+01\n",
      " 2.8930e+01 4.6500e+00 2.1300e+00 6.0380e+01 1.4700e+00 6.5330e+01\n",
      " 2.1000e-01 1.3000e+01 2.2400e+01 1.5015e+02 2.4200e+00 6.5000e+01\n",
      " 2.8700e+00 1.6050e+01 5.0580e+01 3.7300e+00 4.9240e+01 1.1100e+01\n",
      " 6.4550e+01 2.4440e+01 1.5444e+02 4.1130e+01 1.6100e+00 9.1300e+00\n",
      " 1.9500e+00 1.0660e+01 4.4000e-01 2.5250e+01 7.2100e+00 5.1130e+01\n",
      " 1.3750e+01 4.5900e+00 8.6800e+00 1.1580e+01 5.0500e+01 5.0400e+00\n",
      " 4.3060e+01 1.9950e+01 3.6730e+01 3.7000e+01 1.2000e+00 1.5900e+00\n",
      " 1.7400e+00 5.2650e+01 1.5700e+00 2.0500e+01 3.2660e+01 1.0320e+01\n",
      " 6.3900e+00 2.9100e+00 6.1910e+01 1.0690e+01 6.4980e+01 6.5100e+00\n",
      " 8.1000e-01 1.6610e+01 2.1750e+01 2.5020e+01 1.9000e+01 2.8180e+01\n",
      " 6.5000e+00 2.1900e+00 9.0090e+01 3.2000e+01 4.9300e+00 9.8000e-01\n",
      " 1.3020e+01 1.1000e-01 4.9000e-01 5.8000e-01 8.0300e+00 3.6600e+00\n",
      " 6.5700e+00 1.4200e+00 8.4000e-01 1.0240e+02 5.5000e+00 4.5500e+00\n",
      " 7.8700e+00 6.7250e+01 5.1200e+01 3.0900e+00 1.3475e+02 4.9900e+00\n",
      " 5.4600e+01 1.7100e+00 1.6690e+01 4.3400e+01 2.3970e+01 1.6624e+02\n",
      " 7.7130e+01 1.1083e+02 1.5570e+01 6.6700e+00 6.7750e+01 5.7300e+00\n",
      " 1.6700e+01 5.8350e+01 7.2250e+01 1.1100e+00 9.3000e-01 3.4630e+01\n",
      " 2.7000e+01 5.3490e+01 6.7630e+01 2.6590e+01 1.9000e+00 2.8280e+01\n",
      " 4.5600e+01 1.1780e+01 5.9500e+01 2.3500e+00 1.9990e+01 2.6600e+00\n",
      " 2.2310e+01 7.9000e-01 1.3510e+02 3.1050e+01 2.8350e+02 2.6630e+01\n",
      " 8.9900e+00 7.3600e+00 5.7200e+00 8.9960e+01 8.9250e+01 1.2390e+01\n",
      " 1.1900e+00 6.2000e+01 3.2900e+00 6.2400e+00 1.4530e+01 6.7000e-01\n",
      " 2.8900e+00 1.5160e+01 1.9400e+00 4.3000e-01 4.1250e+01 1.2960e+01\n",
      " 2.8000e+00 1.1300e+00 2.8300e+00 1.0113e+02 1.1830e+01 3.7250e+01\n",
      " 2.5100e+00 3.5340e+01 2.1000e+01 1.8250e+01 5.4900e+01 8.7000e-01\n",
      " 3.5380e+01 5.1400e+00 1.0330e+01 2.4700e+00 4.2100e+00 1.4180e+01\n",
      " 1.1261e+02 5.2850e+01 2.6600e+01 2.0030e+01 3.8500e+00 2.4400e+01\n",
      " 2.5480e+01 1.7000e+00 1.3860e+01 2.8350e+01 1.9050e+01 4.0000e-02\n",
      " 1.0180e+01 1.1000e+01 1.6800e+02 1.1520e+02 8.3000e-01 2.9400e+01\n",
      " 1.8655e+02 3.7800e+01 1.8040e+01 6.4200e+00 6.8200e+00 3.0500e+01\n",
      " 5.6230e+01 2.3600e+00 7.3690e+01 1.0830e+01 1.6270e+01 2.3400e+00\n",
      " 4.9500e+01 1.3900e+00 2.2730e+01 1.8414e+02 1.2170e+01 2.5500e+01\n",
      " 3.8700e+00 4.4300e+00 1.0300e+02 3.0750e+01 3.8510e+01 1.3420e+01\n",
      " 1.1295e+02 6.1000e-01 6.1700e+00 4.4060e+01 2.1770e+01 2.1700e+01\n",
      " 3.0160e+01 7.8000e+00 1.0700e+00 3.9500e+00 7.5000e+01 2.3810e+01\n",
      " 4.3000e+00 1.7600e+00 3.2300e+01 2.5000e+00 6.8500e+00 2.4170e+01\n",
      " 4.5800e+00 2.7750e+01 2.7560e+01 3.5300e+00]\n",
      "\n",
      "Age                  - [ 31  36  75  32  29  26  60  57  47  50  42  45  48  35  28  23  30  54\n",
      "  37  38  58  39  22  46  53  33  27  63  69  34  43 118  40  76  56  71\n",
      "  52  41  61  49  25  55  70  64  51  81   5  78  20  44  85  24  59  74\n",
      "  67  66  72  21  65  84  68  17  83  73  82  18   0  79  62  19   7  86\n",
      "  10  80  16  14   8  11   9  77  15  88   1  12  13  87   3   2]\n"
     ]
    }
   ],
   "source": [
    "# Having a look at all the unique values of each feature.\n",
    "\n",
    "for cols in df:\n",
    "    print(\"\\n{:20} - {}\" .format(cols.title(), df[cols].unique()))"
   ]
  },
  {
   "cell_type": "code",
   "execution_count": 8,
   "metadata": {},
   "outputs": [
    {
     "data": {
      "text/html": [
       "<div>\n",
       "<style scoped>\n",
       "    .dataframe tbody tr th:only-of-type {\n",
       "        vertical-align: middle;\n",
       "    }\n",
       "\n",
       "    .dataframe tbody tr th {\n",
       "        vertical-align: top;\n",
       "    }\n",
       "\n",
       "    .dataframe thead th {\n",
       "        text-align: right;\n",
       "    }\n",
       "</style>\n",
       "<table border=\"1\" class=\"dataframe\">\n",
       "  <thead>\n",
       "    <tr style=\"text-align: right;\">\n",
       "      <th></th>\n",
       "      <th>ID</th>\n",
       "      <th>Claim</th>\n",
       "      <th>Duration</th>\n",
       "      <th>Net Sales</th>\n",
       "      <th>Commision (in value)</th>\n",
       "      <th>Age</th>\n",
       "    </tr>\n",
       "  </thead>\n",
       "  <tbody>\n",
       "    <tr>\n",
       "      <th>ID</th>\n",
       "      <td>1.000000</td>\n",
       "      <td>0.040265</td>\n",
       "      <td>0.029771</td>\n",
       "      <td>0.084391</td>\n",
       "      <td>0.114668</td>\n",
       "      <td>0.009026</td>\n",
       "    </tr>\n",
       "    <tr>\n",
       "      <th>Claim</th>\n",
       "      <td>0.040265</td>\n",
       "      <td>1.000000</td>\n",
       "      <td>0.076442</td>\n",
       "      <td>0.138323</td>\n",
       "      <td>0.102009</td>\n",
       "      <td>-0.012106</td>\n",
       "    </tr>\n",
       "    <tr>\n",
       "      <th>Duration</th>\n",
       "      <td>0.029771</td>\n",
       "      <td>0.076442</td>\n",
       "      <td>1.000000</td>\n",
       "      <td>0.437004</td>\n",
       "      <td>0.349193</td>\n",
       "      <td>0.003212</td>\n",
       "    </tr>\n",
       "    <tr>\n",
       "      <th>Net Sales</th>\n",
       "      <td>0.084391</td>\n",
       "      <td>0.138323</td>\n",
       "      <td>0.437004</td>\n",
       "      <td>1.000000</td>\n",
       "      <td>0.657851</td>\n",
       "      <td>0.039119</td>\n",
       "    </tr>\n",
       "    <tr>\n",
       "      <th>Commision (in value)</th>\n",
       "      <td>0.114668</td>\n",
       "      <td>0.102009</td>\n",
       "      <td>0.349193</td>\n",
       "      <td>0.657851</td>\n",
       "      <td>1.000000</td>\n",
       "      <td>0.119167</td>\n",
       "    </tr>\n",
       "    <tr>\n",
       "      <th>Age</th>\n",
       "      <td>0.009026</td>\n",
       "      <td>-0.012106</td>\n",
       "      <td>0.003212</td>\n",
       "      <td>0.039119</td>\n",
       "      <td>0.119167</td>\n",
       "      <td>1.000000</td>\n",
       "    </tr>\n",
       "  </tbody>\n",
       "</table>\n",
       "</div>"
      ],
      "text/plain": [
       "                            ID     Claim  Duration  Net Sales  \\\n",
       "ID                    1.000000  0.040265  0.029771   0.084391   \n",
       "Claim                 0.040265  1.000000  0.076442   0.138323   \n",
       "Duration              0.029771  0.076442  1.000000   0.437004   \n",
       "Net Sales             0.084391  0.138323  0.437004   1.000000   \n",
       "Commision (in value)  0.114668  0.102009  0.349193   0.657851   \n",
       "Age                   0.009026 -0.012106  0.003212   0.039119   \n",
       "\n",
       "                      Commision (in value)       Age  \n",
       "ID                                0.114668  0.009026  \n",
       "Claim                             0.102009 -0.012106  \n",
       "Duration                          0.349193  0.003212  \n",
       "Net Sales                         0.657851  0.039119  \n",
       "Commision (in value)              1.000000  0.119167  \n",
       "Age                               0.119167  1.000000  "
      ]
     },
     "execution_count": 8,
     "metadata": {},
     "output_type": "execute_result"
    }
   ],
   "source": [
    "# Checking for correlation\n",
    "\n",
    "df.corr()"
   ]
  },
  {
   "cell_type": "markdown",
   "metadata": {},
   "source": [
    "<b>We will also drop the ID column.\n",
    "    <br>Each value is unique and does not seem to affect the data."
   ]
  },
  {
   "cell_type": "code",
   "execution_count": 9,
   "metadata": {},
   "outputs": [],
   "source": [
    "df.drop(\"ID\", axis=1, inplace=True)"
   ]
  },
  {
   "cell_type": "code",
   "execution_count": 10,
   "metadata": {},
   "outputs": [
    {
     "name": "stdout",
     "output_type": "stream",
     "text": [
      "0    49812\n",
      "1      741\n",
      "Name: Claim, dtype: int64 \n",
      "\n"
     ]
    },
    {
     "data": {
      "text/plain": [
       "0    98.534212\n",
       "1     1.465788\n",
       "Name: Claim, dtype: float64"
      ]
     },
     "execution_count": 10,
     "metadata": {},
     "output_type": "execute_result"
    }
   ],
   "source": [
    "# Having a look at how many claims and non-claims are present in the dataset.\n",
    "print(df[\"Claim\"].value_counts(), \"\\n\")\n",
    "(df[\"Claim\"].value_counts()*100)/len(df)"
   ]
  },
  {
   "cell_type": "markdown",
   "metadata": {},
   "source": [
    "<b>We can see that there is a huge imbalance between the claims and non-claims.<br>\n",
    "    We will build a baseline model before we perform Over Sampline and Under Sampling."
   ]
  },
  {
   "cell_type": "code",
   "execution_count": 11,
   "metadata": {},
   "outputs": [
    {
     "data": {
      "text/plain": [
       "795"
      ]
     },
     "execution_count": 11,
     "metadata": {},
     "output_type": "execute_result"
    }
   ],
   "source": [
    "# Finding out how many customers have their age input as over 100yrs old\n",
    "\n",
    "len(df[df[\"Age\"] > 100])"
   ]
  },
  {
   "attachments": {
    "04fcbe6b-46fa-49f0-bddd-0db8b1e35534.png": {
     "image/png": "[encoded data removed]"
    },
    "68e9f85a-48ff-4f6c-86c2-9dfc4a07f3ad.png": {
     "image/png": "[encoded data removed]"
    }
   },
   "cell_type": "markdown",
   "metadata": {},
   "source": [
    "<b>The below information from online states that a customer for Travel Insurance is regarded as a Senior citizen from the 71 years and above. And while some companies offer Travel Insurance up to a certain age, others do not have any restriction.</b><br>\n",
    "![image.png](attachment:68e9f85a-48ff-4f6c-86c2-9dfc4a07f3ad.png)\n",
    "\n",
    "![image.png](attachment:04fcbe6b-46fa-49f0-bddd-0db8b1e35534.png)\n",
    "\n",
    "<b>Values above 100 years would most likely be outliers. However, we would need to see how to consider them (or change them) without effecting the data. One possible method is to take the mean of all customers above the age of 70, and replace the values over 100yrs with the new mean value.</b><br>"
   ]
  },
  {
   "cell_type": "code",
   "execution_count": 12,
   "metadata": {},
   "outputs": [],
   "source": [
    "# Over here, create a variable to calculate the mean of all Senior customers.\n",
    "\n",
    "mean_senior = df[\"Age\"][df[\"Age\"] > 70].mean()"
   ]
  },
  {
   "cell_type": "markdown",
   "metadata": {},
   "source": [
    "<b>We will now separate the categorical and numerical data."
   ]
  },
  {
   "cell_type": "code",
   "execution_count": 13,
   "metadata": {},
   "outputs": [
    {
     "data": {
      "text/plain": [
       "Agency                    16\n",
       "Agency Type                2\n",
       "Distribution Channel       2\n",
       "Product Name              25\n",
       "Claim                      2\n",
       "Duration                 444\n",
       "Destination              102\n",
       "Net Sales               1053\n",
       "Commision (in value)     964\n",
       "Age                       88\n",
       "dtype: int64"
      ]
     },
     "execution_count": 13,
     "metadata": {},
     "output_type": "execute_result"
    }
   ],
   "source": [
    "df.nunique()"
   ]
  },
  {
   "cell_type": "markdown",
   "metadata": {},
   "source": [
    "<b>Apart from the target, \"Claim\", there are two more features that are bivariate - \"Agency Type\" and \"Distribution Channel\".\n",
    "    <br>We could look to perform Hot Encoding on them."
   ]
  },
  {
   "cell_type": "markdown",
   "metadata": {},
   "source": [
    "<b>We will separate the Categorical and Numerical features, and explore them further."
   ]
  },
  {
   "cell_type": "code",
   "execution_count": 14,
   "metadata": {},
   "outputs": [],
   "source": [
    "cat = [\"Agency\", \"Agency Type\", \"Distribution Channel\", \"Product Name\", \"Destination\"]\n",
    "num = [\"Duration\", \"Net Sales\", \"Commision (in value)\", \"Age\"]"
   ]
  },
  {
   "cell_type": "code",
   "execution_count": 15,
   "metadata": {},
   "outputs": [
    {
     "data": {
      "image/png": "[encoded data removed]",
      "text/plain": [
       "<Figure size 864x864 with 1 Axes>"
      ]
     },
     "metadata": {
      "needs_background": "light"
     },
     "output_type": "display_data"
    },
    {
     "data": {
      "image/png": "[encoded data removed]",
      "text/plain": [
       "<Figure size 864x864 with 1 Axes>"
      ]
     },
     "metadata": {
      "needs_background": "light"
     },
     "output_type": "display_data"
    },
    {
     "data": {
      "image/png": "[encoded data removed]",
      "text/plain": [
       "<Figure size 864x864 with 1 Axes>"
      ]
     },
     "metadata": {
      "needs_background": "light"
     },
     "output_type": "display_data"
    },
    {
     "data": {
      "image/png": "[encoded data removed]",
      "text/plain": [
       "<Figure size 1440x2160 with 1 Axes>"
      ]
     },
     "metadata": {
      "needs_background": "light"
     },
     "output_type": "display_data"
    },
    {
     "data": {
      "image/png": "[encoded data removed]",
      "text/plain": [
       "<Figure size 1440x2160 with 1 Axes>"
      ]
     },
     "metadata": {
      "needs_background": "light"
     },
     "output_type": "display_data"
    }
   ],
   "source": [
    "for cols in cat:\n",
    "    if (cols == \"Product Name\") or (cols == \"Destination\"):\n",
    "        plt.figure(figsize=(20,30))\n",
    "        sns.countplot(data=df, hue=df[\"Claim\"], y=cols)\n",
    "    else:\n",
    "        plt.figure(figsize=(12,12))\n",
    "        sns.countplot(data=df, hue=df[\"Claim\"], x=cols)\n",
    "    plt.xticks(rotation=90)\n",
    "    plt.show()"
   ]
  },
  {
   "cell_type": "code",
   "execution_count": 16,
   "metadata": {},
   "outputs": [
    {
     "data": {
      "image/png": "[encoded data removed]",
      "text/plain": [
       "<Figure size 576x576 with 1 Axes>"
      ]
     },
     "metadata": {
      "needs_background": "light"
     },
     "output_type": "display_data"
    },
    {
     "data": {
      "image/png": "[encoded data removed]",
      "text/plain": [
       "<Figure size 576x576 with 1 Axes>"
      ]
     },
     "metadata": {
      "needs_background": "light"
     },
     "output_type": "display_data"
    },
    {
     "data": {
      "image/png": "[encoded data removed]",
      "text/plain": [
       "<Figure size 576x576 with 1 Axes>"
      ]
     },
     "metadata": {
      "needs_background": "light"
     },
     "output_type": "display_data"
    },
    {
     "data": {
      "image/png": "[encoded data removed]",
      "text/plain": [
       "<Figure size 576x576 with 1 Axes>"
      ]
     },
     "metadata": {
      "needs_background": "light"
     },
     "output_type": "display_data"
    }
   ],
   "source": [
    "for cols in num:\n",
    "    plt.figure(figsize=(8,8))\n",
    "    sns.boxplot(data=df, x=\"Claim\", y=cols)\n",
    "    plt.show()"
   ]
  },
  {
   "attachments": {
    "1cc86e1a-13a3-451c-9858-f52e3ec01858.png": {
     "image/png": "[encoded data removed]"
    }
   },
   "cell_type": "markdown",
   "metadata": {},
   "source": [
    "<b>We would need to manage only some of the outliers, and not all as it could lead to a lot of data loss. Apart from Age, another would be Duration. From the information below, we could replace all values in duration that are greater than 360, wtih 360.</b><br>\n",
    "\n",
    "![image.png](attachment:1cc86e1a-13a3-451c-9858-f52e3ec01858.png)\n",
    "http://www.insurancepandit.com/travel/individual_travel_health_insurance.php"
   ]
  },
  {
   "cell_type": "code",
   "execution_count": 17,
   "metadata": {},
   "outputs": [
    {
     "data": {
      "text/html": [
       "<div>\n",
       "<style scoped>\n",
       "    .dataframe tbody tr th:only-of-type {\n",
       "        vertical-align: middle;\n",
       "    }\n",
       "\n",
       "    .dataframe tbody tr th {\n",
       "        vertical-align: top;\n",
       "    }\n",
       "\n",
       "    .dataframe thead th {\n",
       "        text-align: right;\n",
       "    }\n",
       "</style>\n",
       "<table border=\"1\" class=\"dataframe\">\n",
       "  <thead>\n",
       "    <tr style=\"text-align: right;\">\n",
       "      <th></th>\n",
       "      <th>Claim</th>\n",
       "      <th>Duration</th>\n",
       "      <th>Net Sales</th>\n",
       "      <th>Commision (in value)</th>\n",
       "      <th>Age</th>\n",
       "    </tr>\n",
       "  </thead>\n",
       "  <tbody>\n",
       "    <tr>\n",
       "      <th>count</th>\n",
       "      <td>50553.000000</td>\n",
       "      <td>50553.000000</td>\n",
       "      <td>50553.000000</td>\n",
       "      <td>50553.00000</td>\n",
       "      <td>50553.000000</td>\n",
       "    </tr>\n",
       "    <tr>\n",
       "      <th>mean</th>\n",
       "      <td>0.014658</td>\n",
       "      <td>49.425969</td>\n",
       "      <td>40.800977</td>\n",
       "      <td>9.83809</td>\n",
       "      <td>40.011236</td>\n",
       "    </tr>\n",
       "    <tr>\n",
       "      <th>std</th>\n",
       "      <td>0.120180</td>\n",
       "      <td>101.434647</td>\n",
       "      <td>48.899683</td>\n",
       "      <td>19.91004</td>\n",
       "      <td>14.076566</td>\n",
       "    </tr>\n",
       "    <tr>\n",
       "      <th>min</th>\n",
       "      <td>0.000000</td>\n",
       "      <td>-2.000000</td>\n",
       "      <td>-389.000000</td>\n",
       "      <td>0.00000</td>\n",
       "      <td>0.000000</td>\n",
       "    </tr>\n",
       "    <tr>\n",
       "      <th>25%</th>\n",
       "      <td>0.000000</td>\n",
       "      <td>9.000000</td>\n",
       "      <td>18.000000</td>\n",
       "      <td>0.00000</td>\n",
       "      <td>35.000000</td>\n",
       "    </tr>\n",
       "    <tr>\n",
       "      <th>50%</th>\n",
       "      <td>0.000000</td>\n",
       "      <td>22.000000</td>\n",
       "      <td>26.500000</td>\n",
       "      <td>0.00000</td>\n",
       "      <td>36.000000</td>\n",
       "    </tr>\n",
       "    <tr>\n",
       "      <th>75%</th>\n",
       "      <td>0.000000</td>\n",
       "      <td>53.000000</td>\n",
       "      <td>48.000000</td>\n",
       "      <td>11.55000</td>\n",
       "      <td>44.000000</td>\n",
       "    </tr>\n",
       "    <tr>\n",
       "      <th>max</th>\n",
       "      <td>1.000000</td>\n",
       "      <td>4881.000000</td>\n",
       "      <td>810.000000</td>\n",
       "      <td>283.50000</td>\n",
       "      <td>118.000000</td>\n",
       "    </tr>\n",
       "  </tbody>\n",
       "</table>\n",
       "</div>"
      ],
      "text/plain": [
       "              Claim      Duration     Net Sales  Commision (in value)  \\\n",
       "count  50553.000000  50553.000000  50553.000000           50553.00000   \n",
       "mean       0.014658     49.425969     40.800977               9.83809   \n",
       "std        0.120180    101.434647     48.899683              19.91004   \n",
       "min        0.000000     -2.000000   -389.000000               0.00000   \n",
       "25%        0.000000      9.000000     18.000000               0.00000   \n",
       "50%        0.000000     22.000000     26.500000               0.00000   \n",
       "75%        0.000000     53.000000     48.000000              11.55000   \n",
       "max        1.000000   4881.000000    810.000000             283.50000   \n",
       "\n",
       "                Age  \n",
       "count  50553.000000  \n",
       "mean      40.011236  \n",
       "std       14.076566  \n",
       "min        0.000000  \n",
       "25%       35.000000  \n",
       "50%       36.000000  \n",
       "75%       44.000000  \n",
       "max      118.000000  "
      ]
     },
     "execution_count": 17,
     "metadata": {},
     "output_type": "execute_result"
    }
   ],
   "source": [
    "df.describe()"
   ]
  },
  {
   "cell_type": "code",
   "execution_count": 18,
   "metadata": {},
   "outputs": [
    {
     "name": "stdout",
     "output_type": "stream",
     "text": [
      "Duration                  : 22.872063891229274\n"
     ]
    },
    {
     "data": {
      "image/png": "[encoded data removed]",
      "text/plain": [
       "<Figure size 576x576 with 1 Axes>"
      ]
     },
     "metadata": {
      "needs_background": "light"
     },
     "output_type": "display_data"
    },
    {
     "name": "stdout",
     "output_type": "stream",
     "text": [
      "Net Sales                 : 3.3281441910342053\n"
     ]
    },
    {
     "data": {
      "image/png": "[encoded data removed]",
      "text/plain": [
       "<Figure size 576x576 with 1 Axes>"
      ]
     },
     "metadata": {
      "needs_background": "light"
     },
     "output_type": "display_data"
    },
    {
     "name": "stdout",
     "output_type": "stream",
     "text": [
      "Commision (in value)      : 4.0780684356634636\n"
     ]
    },
    {
     "data": {
      "image/png": "[encoded data removed]",
      "text/plain": [
       "<Figure size 576x576 with 1 Axes>"
      ]
     },
     "metadata": {
      "needs_background": "light"
     },
     "output_type": "display_data"
    },
    {
     "name": "stdout",
     "output_type": "stream",
     "text": [
      "Age                       : 2.9783898494112435\n"
     ]
    },
    {
     "data": {
      "image/png": "[encoded data removed]",
      "text/plain": [
       "<Figure size 576x576 with 1 Axes>"
      ]
     },
     "metadata": {
      "needs_background": "light"
     },
     "output_type": "display_data"
    }
   ],
   "source": [
    "for cols in num:\n",
    "    skew_cols = skew(df[cols])\n",
    "    print(\"{:<25} : {}\" .format(cols, skew_cols))\n",
    "    plt.figure(figsize=(8,8))\n",
    "    sns.distplot(df[cols])\n",
    "    plt.show()"
   ]
  },
  {
   "cell_type": "code",
   "execution_count": 19,
   "metadata": {},
   "outputs": [
    {
     "name": "stdout",
     "output_type": "stream",
     "text": [
      "\n",
      " Duration\n",
      "-2          1\n",
      "-1          2\n",
      " 0         54\n",
      " 1        647\n",
      " 2       1181\n",
      "         ... \n",
      " 4815       1\n",
      " 4829       1\n",
      " 4844       1\n",
      " 4857       1\n",
      " 4881       1\n",
      "Name: Duration, Length: 444, dtype: int64\n",
      "\n",
      " Net Sales\n",
      "-389.00    1\n",
      "-291.75    2\n",
      "-289.00    1\n",
      "-287.10    1\n",
      "-259.20    1\n",
      "          ..\n",
      " 539.00    1\n",
      " 599.00    5\n",
      " 666.00    2\n",
      " 682.00    1\n",
      " 810.00    1\n",
      "Name: Net Sales, Length: 1053, dtype: int64\n",
      "\n",
      " Commision (in value)\n",
      "0.00      28079\n",
      "0.02         11\n",
      "0.04          1\n",
      "0.05          9\n",
      "0.09         10\n",
      "          ...  \n",
      "209.95        2\n",
      "210.21       33\n",
      "262.60        2\n",
      "262.76        6\n",
      "283.50        1\n",
      "Name: Commision (in value), Length: 964, dtype: int64\n",
      "\n",
      " Age\n",
      "0        2\n",
      "1        4\n",
      "2        1\n",
      "3        4\n",
      "5        3\n",
      "      ... \n",
      "85       9\n",
      "86       3\n",
      "87       6\n",
      "88       4\n",
      "118    795\n",
      "Name: Age, Length: 88, dtype: int64\n"
     ]
    }
   ],
   "source": [
    "for cols in num:\n",
    "    print(\"\\n\", cols)\n",
    "    print(df[cols].value_counts().sort_index())"
   ]
  },
  {
   "cell_type": "markdown",
   "metadata": {},
   "source": [
    "<b>There is some skewness within the data. This will be handled later on."
   ]
  },
  {
   "cell_type": "code",
   "execution_count": 20,
   "metadata": {},
   "outputs": [],
   "source": [
    "# The entries where the duration is -ve, we will drop those rows.\n",
    "\n",
    "duration = df[df[\"Duration\"] < 0].index\n",
    "df.drop(duration, inplace=True)"
   ]
  },
  {
   "cell_type": "code",
   "execution_count": 21,
   "metadata": {},
   "outputs": [
    {
     "data": {
      "text/html": [
       "<div>\n",
       "<style scoped>\n",
       "    .dataframe tbody tr th:only-of-type {\n",
       "        vertical-align: middle;\n",
       "    }\n",
       "\n",
       "    .dataframe tbody tr th {\n",
       "        vertical-align: top;\n",
       "    }\n",
       "\n",
       "    .dataframe thead th {\n",
       "        text-align: right;\n",
       "    }\n",
       "</style>\n",
       "<table border=\"1\" class=\"dataframe\">\n",
       "  <thead>\n",
       "    <tr style=\"text-align: right;\">\n",
       "      <th></th>\n",
       "      <th>Agency</th>\n",
       "      <th>Agency Type</th>\n",
       "      <th>Distribution Channel</th>\n",
       "      <th>Product Name</th>\n",
       "      <th>Claim</th>\n",
       "      <th>Duration</th>\n",
       "      <th>Destination</th>\n",
       "      <th>Net Sales</th>\n",
       "      <th>Commision (in value)</th>\n",
       "      <th>Age</th>\n",
       "    </tr>\n",
       "  </thead>\n",
       "  <tbody>\n",
       "    <tr>\n",
       "      <th>6</th>\n",
       "      <td>JZI</td>\n",
       "      <td>Airlines</td>\n",
       "      <td>Online</td>\n",
       "      <td>Value Plan</td>\n",
       "      <td>0</td>\n",
       "      <td>23</td>\n",
       "      <td>JAPAN</td>\n",
       "      <td>-69.0</td>\n",
       "      <td>24.15</td>\n",
       "      <td>26</td>\n",
       "    </tr>\n",
       "    <tr>\n",
       "      <th>128</th>\n",
       "      <td>EPX</td>\n",
       "      <td>Travel Agency</td>\n",
       "      <td>Online</td>\n",
       "      <td>Cancellation Plan</td>\n",
       "      <td>0</td>\n",
       "      <td>192</td>\n",
       "      <td>CANADA</td>\n",
       "      <td>-80.0</td>\n",
       "      <td>0.00</td>\n",
       "      <td>37</td>\n",
       "    </tr>\n",
       "    <tr>\n",
       "      <th>139</th>\n",
       "      <td>EPX</td>\n",
       "      <td>Travel Agency</td>\n",
       "      <td>Online</td>\n",
       "      <td>2 way Comprehensive Plan</td>\n",
       "      <td>0</td>\n",
       "      <td>55</td>\n",
       "      <td>CHINA</td>\n",
       "      <td>-77.0</td>\n",
       "      <td>0.00</td>\n",
       "      <td>46</td>\n",
       "    </tr>\n",
       "    <tr>\n",
       "      <th>173</th>\n",
       "      <td>CWT</td>\n",
       "      <td>Travel Agency</td>\n",
       "      <td>Online</td>\n",
       "      <td>Rental Vehicle Excess Insurance</td>\n",
       "      <td>0</td>\n",
       "      <td>198</td>\n",
       "      <td>NETHERLANDS</td>\n",
       "      <td>-9.9</td>\n",
       "      <td>5.94</td>\n",
       "      <td>31</td>\n",
       "    </tr>\n",
       "    <tr>\n",
       "      <th>336</th>\n",
       "      <td>CWT</td>\n",
       "      <td>Travel Agency</td>\n",
       "      <td>Online</td>\n",
       "      <td>Rental Vehicle Excess Insurance</td>\n",
       "      <td>0</td>\n",
       "      <td>109</td>\n",
       "      <td>AUSTRALIA</td>\n",
       "      <td>-19.8</td>\n",
       "      <td>11.88</td>\n",
       "      <td>31</td>\n",
       "    </tr>\n",
       "    <tr>\n",
       "      <th>...</th>\n",
       "      <td>...</td>\n",
       "      <td>...</td>\n",
       "      <td>...</td>\n",
       "      <td>...</td>\n",
       "      <td>...</td>\n",
       "      <td>...</td>\n",
       "      <td>...</td>\n",
       "      <td>...</td>\n",
       "      <td>...</td>\n",
       "      <td>...</td>\n",
       "    </tr>\n",
       "    <tr>\n",
       "      <th>50121</th>\n",
       "      <td>CWT</td>\n",
       "      <td>Travel Agency</td>\n",
       "      <td>Online</td>\n",
       "      <td>Rental Vehicle Excess Insurance</td>\n",
       "      <td>0</td>\n",
       "      <td>81</td>\n",
       "      <td>JAPAN</td>\n",
       "      <td>-99.0</td>\n",
       "      <td>59.40</td>\n",
       "      <td>45</td>\n",
       "    </tr>\n",
       "    <tr>\n",
       "      <th>50149</th>\n",
       "      <td>ART</td>\n",
       "      <td>Airlines</td>\n",
       "      <td>Online</td>\n",
       "      <td>24 Protect</td>\n",
       "      <td>0</td>\n",
       "      <td>2</td>\n",
       "      <td>MALAYSIA</td>\n",
       "      <td>-1.4</td>\n",
       "      <td>0.49</td>\n",
       "      <td>118</td>\n",
       "    </tr>\n",
       "    <tr>\n",
       "      <th>50177</th>\n",
       "      <td>CWT</td>\n",
       "      <td>Travel Agency</td>\n",
       "      <td>Online</td>\n",
       "      <td>Rental Vehicle Excess Insurance</td>\n",
       "      <td>0</td>\n",
       "      <td>75</td>\n",
       "      <td>UNITED STATES</td>\n",
       "      <td>-49.5</td>\n",
       "      <td>29.70</td>\n",
       "      <td>49</td>\n",
       "    </tr>\n",
       "    <tr>\n",
       "      <th>50394</th>\n",
       "      <td>JZI</td>\n",
       "      <td>Airlines</td>\n",
       "      <td>Online</td>\n",
       "      <td>Basic Plan</td>\n",
       "      <td>0</td>\n",
       "      <td>15</td>\n",
       "      <td>VIET NAM</td>\n",
       "      <td>-22.0</td>\n",
       "      <td>7.70</td>\n",
       "      <td>57</td>\n",
       "    </tr>\n",
       "    <tr>\n",
       "      <th>50399</th>\n",
       "      <td>CWT</td>\n",
       "      <td>Travel Agency</td>\n",
       "      <td>Online</td>\n",
       "      <td>Rental Vehicle Excess Insurance</td>\n",
       "      <td>0</td>\n",
       "      <td>135</td>\n",
       "      <td>AUSTRALIA</td>\n",
       "      <td>-49.5</td>\n",
       "      <td>29.70</td>\n",
       "      <td>31</td>\n",
       "    </tr>\n",
       "  </tbody>\n",
       "</table>\n",
       "<p>525 rows × 10 columns</p>\n",
       "</div>"
      ],
      "text/plain": [
       "      Agency    Agency Type Distribution Channel  \\\n",
       "6        JZI       Airlines               Online   \n",
       "128      EPX  Travel Agency               Online   \n",
       "139      EPX  Travel Agency               Online   \n",
       "173      CWT  Travel Agency               Online   \n",
       "336      CWT  Travel Agency               Online   \n",
       "...      ...            ...                  ...   \n",
       "50121    CWT  Travel Agency               Online   \n",
       "50149    ART       Airlines               Online   \n",
       "50177    CWT  Travel Agency               Online   \n",
       "50394    JZI       Airlines               Online   \n",
       "50399    CWT  Travel Agency               Online   \n",
       "\n",
       "                          Product Name  Claim  Duration    Destination  \\\n",
       "6                           Value Plan      0        23          JAPAN   \n",
       "128                  Cancellation Plan      0       192         CANADA   \n",
       "139           2 way Comprehensive Plan      0        55          CHINA   \n",
       "173    Rental Vehicle Excess Insurance      0       198    NETHERLANDS   \n",
       "336    Rental Vehicle Excess Insurance      0       109      AUSTRALIA   \n",
       "...                                ...    ...       ...            ...   \n",
       "50121  Rental Vehicle Excess Insurance      0        81          JAPAN   \n",
       "50149                       24 Protect      0         2       MALAYSIA   \n",
       "50177  Rental Vehicle Excess Insurance      0        75  UNITED STATES   \n",
       "50394                       Basic Plan      0        15       VIET NAM   \n",
       "50399  Rental Vehicle Excess Insurance      0       135      AUSTRALIA   \n",
       "\n",
       "       Net Sales  Commision (in value)  Age  \n",
       "6          -69.0                 24.15   26  \n",
       "128        -80.0                  0.00   37  \n",
       "139        -77.0                  0.00   46  \n",
       "173         -9.9                  5.94   31  \n",
       "336        -19.8                 11.88   31  \n",
       "...          ...                   ...  ...  \n",
       "50121      -99.0                 59.40   45  \n",
       "50149       -1.4                  0.49  118  \n",
       "50177      -49.5                 29.70   49  \n",
       "50394      -22.0                  7.70   57  \n",
       "50399      -49.5                 29.70   31  \n",
       "\n",
       "[525 rows x 10 columns]"
      ]
     },
     "execution_count": 21,
     "metadata": {},
     "output_type": "execute_result"
    }
   ],
   "source": [
    "df[(df[\"Net Sales\"] < 0) & (df[\"Claim\"] == 0)]"
   ]
  },
  {
   "cell_type": "code",
   "execution_count": 22,
   "metadata": {},
   "outputs": [
    {
     "data": {
      "text/html": [
       "<div>\n",
       "<style scoped>\n",
       "    .dataframe tbody tr th:only-of-type {\n",
       "        vertical-align: middle;\n",
       "    }\n",
       "\n",
       "    .dataframe tbody tr th {\n",
       "        vertical-align: top;\n",
       "    }\n",
       "\n",
       "    .dataframe thead th {\n",
       "        text-align: right;\n",
       "    }\n",
       "</style>\n",
       "<table border=\"1\" class=\"dataframe\">\n",
       "  <thead>\n",
       "    <tr style=\"text-align: right;\">\n",
       "      <th></th>\n",
       "      <th>Agency</th>\n",
       "      <th>Agency Type</th>\n",
       "      <th>Distribution Channel</th>\n",
       "      <th>Product Name</th>\n",
       "      <th>Claim</th>\n",
       "      <th>Duration</th>\n",
       "      <th>Destination</th>\n",
       "      <th>Net Sales</th>\n",
       "      <th>Commision (in value)</th>\n",
       "      <th>Age</th>\n",
       "    </tr>\n",
       "  </thead>\n",
       "  <tbody>\n",
       "    <tr>\n",
       "      <th>6597</th>\n",
       "      <td>EPX</td>\n",
       "      <td>Travel Agency</td>\n",
       "      <td>Online</td>\n",
       "      <td>Cancellation Plan</td>\n",
       "      <td>1</td>\n",
       "      <td>28</td>\n",
       "      <td>SPAIN</td>\n",
       "      <td>-10.0</td>\n",
       "      <td>0.0</td>\n",
       "      <td>36</td>\n",
       "    </tr>\n",
       "    <tr>\n",
       "      <th>26666</th>\n",
       "      <td>JZI</td>\n",
       "      <td>Airlines</td>\n",
       "      <td>Online</td>\n",
       "      <td>Basic Plan</td>\n",
       "      <td>1</td>\n",
       "      <td>3</td>\n",
       "      <td>HONG KONG</td>\n",
       "      <td>-22.0</td>\n",
       "      <td>7.7</td>\n",
       "      <td>59</td>\n",
       "    </tr>\n",
       "    <tr>\n",
       "      <th>30272</th>\n",
       "      <td>EPX</td>\n",
       "      <td>Travel Agency</td>\n",
       "      <td>Online</td>\n",
       "      <td>2 way Comprehensive Plan</td>\n",
       "      <td>1</td>\n",
       "      <td>128</td>\n",
       "      <td>KOREA, REPUBLIC OF</td>\n",
       "      <td>-37.0</td>\n",
       "      <td>0.0</td>\n",
       "      <td>36</td>\n",
       "    </tr>\n",
       "  </tbody>\n",
       "</table>\n",
       "</div>"
      ],
      "text/plain": [
       "      Agency    Agency Type Distribution Channel              Product Name  \\\n",
       "6597     EPX  Travel Agency               Online         Cancellation Plan   \n",
       "26666    JZI       Airlines               Online                Basic Plan   \n",
       "30272    EPX  Travel Agency               Online  2 way Comprehensive Plan   \n",
       "\n",
       "       Claim  Duration         Destination  Net Sales  Commision (in value)  \\\n",
       "6597       1        28               SPAIN      -10.0                   0.0   \n",
       "26666      1         3           HONG KONG      -22.0                   7.7   \n",
       "30272      1       128  KOREA, REPUBLIC OF      -37.0                   0.0   \n",
       "\n",
       "       Age  \n",
       "6597    36  \n",
       "26666   59  \n",
       "30272   36  "
      ]
     },
     "execution_count": 22,
     "metadata": {},
     "output_type": "execute_result"
    }
   ],
   "source": [
    "df[(df[\"Net Sales\"] < 0) & (df[\"Claim\"] == 1)]"
   ]
  },
  {
   "cell_type": "markdown",
   "metadata": {},
   "source": [
    "<hr>"
   ]
  },
  {
   "cell_type": "markdown",
   "metadata": {},
   "source": [
    "### LabelEncoding, One Hot Encoding, Frequency Encoding\n",
    "\n",
    "##### Label Encoding -> Each unique categorical value for a feature is replaced with a discrete number.\n",
    "##### One Hot Encoding -> A separate column is created for each unique categorical value from a feature.\n",
    "##### Frequency Encoding -> Finding out the frequency of each categorical unique value from a feature.\n",
    "\n",
    "<b>To get a better model, we would be running this file a few times as the model would have either one type of encoding, or a combination of all. Accordingly, the best models will be selected.<br>\n",
    "Once selected, if a particular encoding type lowered the scores, we will change the block code type to 'Raw'."
   ]
  },
  {
   "cell_type": "code",
   "execution_count": 23,
   "metadata": {},
   "outputs": [
    {
     "data": {
      "text/html": [
       "<div>\n",
       "<style scoped>\n",
       "    .dataframe tbody tr th:only-of-type {\n",
       "        vertical-align: middle;\n",
       "    }\n",
       "\n",
       "    .dataframe tbody tr th {\n",
       "        vertical-align: top;\n",
       "    }\n",
       "\n",
       "    .dataframe thead th {\n",
       "        text-align: right;\n",
       "    }\n",
       "</style>\n",
       "<table border=\"1\" class=\"dataframe\">\n",
       "  <thead>\n",
       "    <tr style=\"text-align: right;\">\n",
       "      <th></th>\n",
       "      <th>Agency</th>\n",
       "      <th>Agency Type</th>\n",
       "      <th>Distribution Channel</th>\n",
       "      <th>Product Name</th>\n",
       "      <th>Claim</th>\n",
       "      <th>Duration</th>\n",
       "      <th>Destination</th>\n",
       "      <th>Net Sales</th>\n",
       "      <th>Commision (in value)</th>\n",
       "      <th>Age</th>\n",
       "    </tr>\n",
       "  </thead>\n",
       "  <tbody>\n",
       "    <tr>\n",
       "      <th>0</th>\n",
       "      <td>6</td>\n",
       "      <td>1</td>\n",
       "      <td>1</td>\n",
       "      <td>16</td>\n",
       "      <td>0</td>\n",
       "      <td>7</td>\n",
       "      <td>56</td>\n",
       "      <td>0.0</td>\n",
       "      <td>17.82</td>\n",
       "      <td>31</td>\n",
       "    </tr>\n",
       "    <tr>\n",
       "      <th>1</th>\n",
       "      <td>7</td>\n",
       "      <td>1</td>\n",
       "      <td>1</td>\n",
       "      <td>10</td>\n",
       "      <td>0</td>\n",
       "      <td>85</td>\n",
       "      <td>79</td>\n",
       "      <td>69.0</td>\n",
       "      <td>0.00</td>\n",
       "      <td>36</td>\n",
       "    </tr>\n",
       "    <tr>\n",
       "      <th>2</th>\n",
       "      <td>6</td>\n",
       "      <td>1</td>\n",
       "      <td>1</td>\n",
       "      <td>16</td>\n",
       "      <td>0</td>\n",
       "      <td>11</td>\n",
       "      <td>56</td>\n",
       "      <td>19.8</td>\n",
       "      <td>11.88</td>\n",
       "      <td>75</td>\n",
       "    </tr>\n",
       "    <tr>\n",
       "      <th>3</th>\n",
       "      <td>7</td>\n",
       "      <td>1</td>\n",
       "      <td>1</td>\n",
       "      <td>1</td>\n",
       "      <td>0</td>\n",
       "      <td>16</td>\n",
       "      <td>38</td>\n",
       "      <td>20.0</td>\n",
       "      <td>0.00</td>\n",
       "      <td>32</td>\n",
       "    </tr>\n",
       "    <tr>\n",
       "      <th>4</th>\n",
       "      <td>7</td>\n",
       "      <td>1</td>\n",
       "      <td>1</td>\n",
       "      <td>10</td>\n",
       "      <td>0</td>\n",
       "      <td>10</td>\n",
       "      <td>47</td>\n",
       "      <td>15.0</td>\n",
       "      <td>0.00</td>\n",
       "      <td>29</td>\n",
       "    </tr>\n",
       "    <tr>\n",
       "      <th>5</th>\n",
       "      <td>6</td>\n",
       "      <td>1</td>\n",
       "      <td>1</td>\n",
       "      <td>16</td>\n",
       "      <td>0</td>\n",
       "      <td>64</td>\n",
       "      <td>88</td>\n",
       "      <td>49.5</td>\n",
       "      <td>29.70</td>\n",
       "      <td>36</td>\n",
       "    </tr>\n",
       "    <tr>\n",
       "      <th>6</th>\n",
       "      <td>9</td>\n",
       "      <td>0</td>\n",
       "      <td>1</td>\n",
       "      <td>24</td>\n",
       "      <td>0</td>\n",
       "      <td>23</td>\n",
       "      <td>43</td>\n",
       "      <td>-69.0</td>\n",
       "      <td>24.15</td>\n",
       "      <td>26</td>\n",
       "    </tr>\n",
       "    <tr>\n",
       "      <th>7</th>\n",
       "      <td>9</td>\n",
       "      <td>0</td>\n",
       "      <td>1</td>\n",
       "      <td>8</td>\n",
       "      <td>0</td>\n",
       "      <td>31</td>\n",
       "      <td>34</td>\n",
       "      <td>26.0</td>\n",
       "      <td>9.10</td>\n",
       "      <td>60</td>\n",
       "    </tr>\n",
       "  </tbody>\n",
       "</table>\n",
       "</div>"
      ],
      "text/plain": [
       "   Agency  Agency Type  Distribution Channel  Product Name  Claim  Duration  \\\n",
       "0       6            1                     1            16      0         7   \n",
       "1       7            1                     1            10      0        85   \n",
       "2       6            1                     1            16      0        11   \n",
       "3       7            1                     1             1      0        16   \n",
       "4       7            1                     1            10      0        10   \n",
       "5       6            1                     1            16      0        64   \n",
       "6       9            0                     1            24      0        23   \n",
       "7       9            0                     1             8      0        31   \n",
       "\n",
       "   Destination  Net Sales  Commision (in value)  Age  \n",
       "0           56        0.0                 17.82   31  \n",
       "1           79       69.0                  0.00   36  \n",
       "2           56       19.8                 11.88   75  \n",
       "3           38       20.0                  0.00   32  \n",
       "4           47       15.0                  0.00   29  \n",
       "5           88       49.5                 29.70   36  \n",
       "6           43      -69.0                 24.15   26  \n",
       "7           34       26.0                  9.10   60  "
      ]
     },
     "execution_count": 23,
     "metadata": {},
     "output_type": "execute_result"
    }
   ],
   "source": [
    "# Label Encoding\n",
    "\n",
    "for cols in cat:\n",
    "    le = LabelEncoder()\n",
    "    df[cols] = le.fit_transform(df[cols])\n",
    "\n",
    "df.head(8)"
   ]
  },
  {
   "cell_type": "raw",
   "metadata": {},
   "source": [
    "# Frequency Encoding\n",
    "\n",
    "fe = df.groupby('Destination').size()/len(df)\n",
    "df.loc[:,'Dest Freq'] = df['Destination'].map(fe)\n",
    "df.drop(columns='Destination',axis=1,inplace=True)\n",
    "\n",
    "fe_1 = df.groupby('Agency').size()/len(df)\n",
    "df.loc[:,'Agency Freq'] = df['Agency'].map(fe_1)\n",
    "df.drop(columns='Agency',axis=1,inplace=True)\n",
    "\n",
    "fe_2 = df.groupby('Product Name').size()/len(df)    \n",
    "df.loc[:,'Product Name Freq'] = df['Product Name'].map(fe_2)\n",
    "df.drop(columns='Product Name',axis=1,inplace=True)"
   ]
  },
  {
   "cell_type": "raw",
   "metadata": {},
   "source": [
    "# One-Hot Encoding\n",
    "\n",
    "df = pd.get_dummies(df, columns=[\"Agency Type\", \"Distribution Channel\"], drop_first=True)\n",
    "df.head()"
   ]
  },
  {
   "cell_type": "markdown",
   "metadata": {},
   "source": [
    "<hr>"
   ]
  },
  {
   "cell_type": "code",
   "execution_count": 24,
   "metadata": {},
   "outputs": [],
   "source": [
    "X = df.drop(\"Claim\", axis=1)\n",
    "y = df[\"Claim\"]"
   ]
  },
  {
   "cell_type": "markdown",
   "metadata": {},
   "source": [
    "### Fit and Predict\n",
    "<b>Function to train, fit, and predict the model, and to display the report"
   ]
  },
  {
   "cell_type": "code",
   "execution_count": 25,
   "metadata": {},
   "outputs": [],
   "source": [
    "def model_sel(model, X, y):\n",
    "    X_train, X_test, y_train, y_test = train_test_split(X, y, test_size=0.3, random_state=1)\n",
    "    \n",
    "    model.fit(X_train, y_train)\n",
    "    y_pred = model.predict(X_test)\n",
    "    \n",
    "    return classification_report(y_test, y_pred)"
   ]
  },
  {
   "cell_type": "markdown",
   "metadata": {},
   "source": [
    "<hr>"
   ]
  },
  {
   "cell_type": "markdown",
   "metadata": {},
   "source": [
    "### All Models\n",
    "<b>Function where all the models will be defined and then passed to 'model_sel' for the model to be created."
   ]
  },
  {
   "cell_type": "code",
   "execution_count": 26,
   "metadata": {},
   "outputs": [],
   "source": [
    "def models(X, y):\n",
    "    lr = LogisticRegression()\n",
    "    dtc = DecisionTreeClassifier()\n",
    "    abc = AdaBoostClassifier(n_estimators=100)\n",
    "    gbc = GradientBoostingClassifier(n_estimators=100)\n",
    "    xbc = XGBClassifier(n_estimators=200, reg_alpha=1)\n",
    "    rfc = RandomForestClassifier()\n",
    "    lsvc = LinearSVC(random_state=1)\n",
    "    svc = SVC(random_state=1)\n",
    "    print(\"{} \\n {}\\n\" .format(\"LOGISTIC REGRESSION\", model_sel(lr, X, y)))\n",
    "    print(\"{} \\n {}\\n\" .format(\"DECISION TREE\", model_sel(dtc, X, y)))\n",
    "    print(\"{} \\n {}\\n\" .format(\"ADABOOST\", model_sel(abc, X, y)))\n",
    "    print(\"{} \\n {}\\n\" .format(\"GRADIENT BOOST\", model_sel(gbc, X, y)))\n",
    "    print(\"{} \\n {}\\n\" .format(\"XGBOOST\", model_sel(xbc, X, y)))\n",
    "    print(\"{} \\n {}\\n\" .format(\"RANDOM FOREST\", model_sel(rfc, X, y)))\n",
    "    print(\"{} \\n {}\\n\" .format(\"LINEAR SVM\", model_sel(lsvc, X, y)))\n",
    "    print(\"{} \\n {}\\n\" .format(\"SVM\", model_sel(svc, X, y)))\n",
    "    \n",
    "    return lr, abc, gbc, xbc, rfc, lsvc, svc"
   ]
  },
  {
   "cell_type": "markdown",
   "metadata": {},
   "source": [
    "<hr>"
   ]
  },
  {
   "cell_type": "markdown",
   "metadata": {},
   "source": [
    "### Manual Under Sampling\n",
    "<b>We will match the number of non-claims to claims. Below are the steps<br>\n",
    "    1. Get the count of undersampled and oversampled Claims.<br>\n",
    "    2. Create new variable that will randomly select the same number of oversampled Claims as there is undersampled.<br>\n",
    "    3. Concatenate the two into a numpy array.<br>\n",
    "    4. Create a new DataFrame taking the indexes from the concatenated array.<br>\n",
    "    5. Use this DataFrame to run the models.<br>"
   ]
  },
  {
   "cell_type": "code",
   "execution_count": 27,
   "metadata": {},
   "outputs": [],
   "source": [
    "def sampling(df):\n",
    "    min_claim = len(df[df[\"Claim\"] == 1])\n",
    "    min_claim_ind = df[df[\"Claim\"] == 1].index\n",
    "    \n",
    "    maj_claim_ind = df[df[\"Claim\"] == 0].index\n",
    "    \n",
    "    random_major = np.random.choice(maj_claim_ind, min_claim, replace=False)\n",
    "    \n",
    "    sample_ind = np.concatenate([min_claim_ind, random_major])\n",
    "    \n",
    "    under_sample = df.loc[sample_ind]\n",
    "    \n",
    "    # print(sns.countplot(data=under_sample, x=\"Claim\"))\n",
    "    \n",
    "    X = under_sample.loc[:, df.columns!=\"Claim\"]\n",
    "    y = under_sample.loc[:, df.columns==\"Claim\"]\n",
    "    \n",
    "    lr, abc, gbc, xbc, rfc, lsvc, svc = models(X, y)\n",
    "    return lr, abc, gbc, xbc, rfc, lsvc, svc, X, y"
   ]
  },
  {
   "cell_type": "markdown",
   "metadata": {},
   "source": [
    "<hr>"
   ]
  },
  {
   "cell_type": "markdown",
   "metadata": {},
   "source": [
    "### Over Sampling\n",
    "\n",
    "<b>The number of minority values will be made to equal the number of majority values."
   ]
  },
  {
   "cell_type": "code",
   "execution_count": 28,
   "metadata": {},
   "outputs": [],
   "source": [
    "def over_sample():\n",
    "    X = df.drop(\"Claim\", axis=1)\n",
    "    y = df[\"Claim\"]\n",
    "    print(Counter(y))\n",
    "    oversample = RandomOverSampler(sampling_strategy='minority')\n",
    "    X_over, y_over = oversample.fit_resample(X, y)\n",
    "    print(Counter(y_over))\n",
    "    \n",
    "    lr, abc, gbc, xbc, rfc, lsvc, svc = models(X_over, y_over)\n",
    "    return lr, abc, gbc, xbc, rfc, lsvc, svc, X_over, y_over"
   ]
  },
  {
   "cell_type": "markdown",
   "metadata": {},
   "source": [
    "<hr>"
   ]
  },
  {
   "cell_type": "markdown",
   "metadata": {},
   "source": [
    "### Under Sampling\n",
    "\n",
    "<b>The number of majority values will be reduced down to equal the number of minority values."
   ]
  },
  {
   "cell_type": "code",
   "execution_count": 29,
   "metadata": {},
   "outputs": [],
   "source": [
    "def under_sample():\n",
    "    X = df.drop(\"Claim\", axis=1)\n",
    "    y = df[\"Claim\"]\n",
    "    print(Counter(y))\n",
    "    undersample = RandomUnderSampler(sampling_strategy='majority')\n",
    "    X_under, y_under = undersample.fit_resample(X, y)\n",
    "    print(Counter(y_under))\n",
    "    \n",
    "    lr, abc, gbc, xbc, rfc, lsvc, svc = models(X_under, y_under)\n",
    "    return lr, abc, gbc, xbc, rfc, lsvc, svc, X_under, y_under"
   ]
  },
  {
   "cell_type": "markdown",
   "metadata": {},
   "source": [
    "<hr>"
   ]
  },
  {
   "cell_type": "markdown",
   "metadata": {},
   "source": [
    "### GridSearchCV\n",
    "<b>By passing the model along with parameters that it can carry, this function will iterate using the model parameters, and deliver the best model."
   ]
  },
  {
   "cell_type": "code",
   "execution_count": 30,
   "metadata": {},
   "outputs": [],
   "source": [
    "def gridsearch(model, paramater, X, y):\n",
    "    X_train, X_test, y_train, y_test = train_test_split(X, y, test_size=0.3, random_state=1)\n",
    "\n",
    "    gscv = GridSearchCV(estimator=model, param_grid=parameter)\n",
    "    gscv.fit(X_train, y_train)\n",
    "    y_pred = gscv.predict(X_test)\n",
    "    print(classification_report(y_test, y_pred))\n",
    "    print(gscv.best_estimator_)\n",
    "    return gscv"
   ]
  },
  {
   "cell_type": "markdown",
   "metadata": {},
   "source": [
    "<hr><hr>"
   ]
  },
  {
   "cell_type": "markdown",
   "metadata": {},
   "source": [
    "### First Baseline Models\n",
    "<b>We will build four models - No Sampling, Manual Under Sampling, Over Sampled, Under Sampled.<br>"
   ]
  },
  {
   "cell_type": "code",
   "execution_count": 31,
   "metadata": {},
   "outputs": [
    {
     "name": "stdout",
     "output_type": "stream",
     "text": [
      "LOGISTIC REGRESSION \n",
      "               precision    recall  f1-score   support\n",
      "\n",
      "           0       0.99      1.00      0.99     14952\n",
      "           1       0.00      0.00      0.00       213\n",
      "\n",
      "    accuracy                           0.99     15165\n",
      "   macro avg       0.49      0.50      0.50     15165\n",
      "weighted avg       0.97      0.99      0.98     15165\n",
      "\n",
      "\n",
      "DECISION TREE \n",
      "               precision    recall  f1-score   support\n",
      "\n",
      "           0       0.99      0.98      0.98     14952\n",
      "           1       0.05      0.06      0.05       213\n",
      "\n",
      "    accuracy                           0.97     15165\n",
      "   macro avg       0.52      0.52      0.52     15165\n",
      "weighted avg       0.97      0.97      0.97     15165\n",
      "\n",
      "\n",
      "ADABOOST \n",
      "               precision    recall  f1-score   support\n",
      "\n",
      "           0       0.99      1.00      0.99     14952\n",
      "           1       0.00      0.00      0.00       213\n",
      "\n",
      "    accuracy                           0.99     15165\n",
      "   macro avg       0.49      0.50      0.50     15165\n",
      "weighted avg       0.97      0.99      0.98     15165\n",
      "\n",
      "\n",
      "GRADIENT BOOST \n",
      "               precision    recall  f1-score   support\n",
      "\n",
      "           0       0.99      1.00      0.99     14952\n",
      "           1       0.00      0.00      0.00       213\n",
      "\n",
      "    accuracy                           0.99     15165\n",
      "   macro avg       0.49      0.50      0.50     15165\n",
      "weighted avg       0.97      0.99      0.98     15165\n",
      "\n",
      "\n",
      "XGBOOST \n",
      "               precision    recall  f1-score   support\n",
      "\n",
      "           0       0.99      1.00      0.99     14952\n",
      "           1       0.00      0.00      0.00       213\n",
      "\n",
      "    accuracy                           0.98     15165\n",
      "   macro avg       0.49      0.50      0.50     15165\n",
      "weighted avg       0.97      0.98      0.98     15165\n",
      "\n",
      "\n",
      "RANDOM FOREST \n",
      "               precision    recall  f1-score   support\n",
      "\n",
      "           0       0.99      1.00      0.99     14952\n",
      "           1       0.11      0.01      0.02       213\n",
      "\n",
      "    accuracy                           0.98     15165\n",
      "   macro avg       0.55      0.51      0.51     15165\n",
      "weighted avg       0.97      0.98      0.98     15165\n",
      "\n",
      "\n",
      "LINEAR SVM \n",
      "               precision    recall  f1-score   support\n",
      "\n",
      "           0       0.99      1.00      0.99     14952\n",
      "           1       0.00      0.00      0.00       213\n",
      "\n",
      "    accuracy                           0.99     15165\n",
      "   macro avg       0.49      0.50      0.50     15165\n",
      "weighted avg       0.97      0.99      0.98     15165\n",
      "\n",
      "\n",
      "SVM \n",
      "               precision    recall  f1-score   support\n",
      "\n",
      "           0       0.99      1.00      0.99     14952\n",
      "           1       0.00      0.00      0.00       213\n",
      "\n",
      "    accuracy                           0.99     15165\n",
      "   macro avg       0.49      0.50      0.50     15165\n",
      "weighted avg       0.97      0.99      0.98     15165\n",
      "\n",
      "\n"
     ]
    }
   ],
   "source": [
    "# Without Sampling\n",
    "\n",
    "lr, abc, gbc, xbc, rfc, lscv, svc = models(X, y)"
   ]
  },
  {
   "cell_type": "code",
   "execution_count": 32,
   "metadata": {},
   "outputs": [
    {
     "name": "stdout",
     "output_type": "stream",
     "text": [
      "LOGISTIC REGRESSION \n",
      "               precision    recall  f1-score   support\n",
      "\n",
      "           0       0.70      0.87      0.78       227\n",
      "           1       0.82      0.61      0.70       218\n",
      "\n",
      "    accuracy                           0.74       445\n",
      "   macro avg       0.76      0.74      0.74       445\n",
      "weighted avg       0.76      0.74      0.74       445\n",
      "\n",
      "\n",
      "DECISION TREE \n",
      "               precision    recall  f1-score   support\n",
      "\n",
      "           0       0.68      0.69      0.69       227\n",
      "           1       0.67      0.66      0.67       218\n",
      "\n",
      "    accuracy                           0.68       445\n",
      "   macro avg       0.68      0.68      0.68       445\n",
      "weighted avg       0.68      0.68      0.68       445\n",
      "\n",
      "\n",
      "ADABOOST \n",
      "               precision    recall  f1-score   support\n",
      "\n",
      "           0       0.74      0.77      0.75       227\n",
      "           1       0.75      0.71      0.73       218\n",
      "\n",
      "    accuracy                           0.74       445\n",
      "   macro avg       0.74      0.74      0.74       445\n",
      "weighted avg       0.74      0.74      0.74       445\n",
      "\n",
      "\n",
      "GRADIENT BOOST \n",
      "               precision    recall  f1-score   support\n",
      "\n",
      "           0       0.75      0.78      0.77       227\n",
      "           1       0.77      0.73      0.75       218\n",
      "\n",
      "    accuracy                           0.76       445\n",
      "   macro avg       0.76      0.76      0.76       445\n",
      "weighted avg       0.76      0.76      0.76       445\n",
      "\n",
      "\n",
      "XGBOOST \n",
      "               precision    recall  f1-score   support\n",
      "\n",
      "           0       0.72      0.74      0.73       227\n",
      "           1       0.72      0.70      0.71       218\n",
      "\n",
      "    accuracy                           0.72       445\n",
      "   macro avg       0.72      0.72      0.72       445\n",
      "weighted avg       0.72      0.72      0.72       445\n",
      "\n",
      "\n",
      "RANDOM FOREST \n",
      "               precision    recall  f1-score   support\n",
      "\n",
      "           0       0.73      0.74      0.74       227\n",
      "           1       0.73      0.71      0.72       218\n",
      "\n",
      "    accuracy                           0.73       445\n",
      "   macro avg       0.73      0.73      0.73       445\n",
      "weighted avg       0.73      0.73      0.73       445\n",
      "\n",
      "\n",
      "LINEAR SVM \n",
      "               precision    recall  f1-score   support\n",
      "\n",
      "           0       0.75      0.18      0.29       227\n",
      "           1       0.52      0.94      0.67       218\n",
      "\n",
      "    accuracy                           0.55       445\n",
      "   macro avg       0.64      0.56      0.48       445\n",
      "weighted avg       0.64      0.55      0.48       445\n",
      "\n",
      "\n",
      "SVM \n",
      "               precision    recall  f1-score   support\n",
      "\n",
      "           0       0.69      0.80      0.74       227\n",
      "           1       0.75      0.62      0.68       218\n",
      "\n",
      "    accuracy                           0.71       445\n",
      "   macro avg       0.72      0.71      0.71       445\n",
      "weighted avg       0.72      0.71      0.71       445\n",
      "\n",
      "\n"
     ]
    }
   ],
   "source": [
    "# With manual Under Sampling\n",
    "\n",
    "lr_sample, abc_sample, gbc_sample, xbc_sample, rfc_sample, lsvc_sample, svc_sample, X, y = sampling(df)"
   ]
  },
  {
   "cell_type": "code",
   "execution_count": 33,
   "metadata": {},
   "outputs": [
    {
     "name": "stdout",
     "output_type": "stream",
     "text": [
      "Counter({0: 49809, 1: 741})\n",
      "Counter({0: 49809, 1: 49809})\n",
      "LOGISTIC REGRESSION \n",
      "               precision    recall  f1-score   support\n",
      "\n",
      "           0       0.71      0.84      0.77     15096\n",
      "           1       0.79      0.65      0.71     14790\n",
      "\n",
      "    accuracy                           0.74     29886\n",
      "   macro avg       0.75      0.74      0.74     29886\n",
      "weighted avg       0.75      0.74      0.74     29886\n",
      "\n",
      "\n",
      "DECISION TREE \n",
      "               precision    recall  f1-score   support\n",
      "\n",
      "           0       1.00      0.98      0.99     15096\n",
      "           1       0.98      1.00      0.99     14790\n",
      "\n",
      "    accuracy                           0.99     29886\n",
      "   macro avg       0.99      0.99      0.99     29886\n",
      "weighted avg       0.99      0.99      0.99     29886\n",
      "\n",
      "\n",
      "ADABOOST \n",
      "               precision    recall  f1-score   support\n",
      "\n",
      "           0       0.77      0.80      0.78     15096\n",
      "           1       0.78      0.75      0.77     14790\n",
      "\n",
      "    accuracy                           0.77     29886\n",
      "   macro avg       0.78      0.77      0.77     29886\n",
      "weighted avg       0.78      0.77      0.77     29886\n",
      "\n",
      "\n",
      "GRADIENT BOOST \n",
      "               precision    recall  f1-score   support\n",
      "\n",
      "           0       0.78      0.81      0.80     15096\n",
      "           1       0.80      0.76      0.78     14790\n",
      "\n",
      "    accuracy                           0.79     29886\n",
      "   macro avg       0.79      0.79      0.79     29886\n",
      "weighted avg       0.79      0.79      0.79     29886\n",
      "\n",
      "\n",
      "XGBOOST \n",
      "               precision    recall  f1-score   support\n",
      "\n",
      "           0       1.00      0.95      0.97     15096\n",
      "           1       0.95      1.00      0.97     14790\n",
      "\n",
      "    accuracy                           0.97     29886\n",
      "   macro avg       0.97      0.97      0.97     29886\n",
      "weighted avg       0.97      0.97      0.97     29886\n",
      "\n",
      "\n",
      "RANDOM FOREST \n",
      "               precision    recall  f1-score   support\n",
      "\n",
      "           0       1.00      0.99      0.99     15096\n",
      "           1       0.99      1.00      0.99     14790\n",
      "\n",
      "    accuracy                           0.99     29886\n",
      "   macro avg       0.99      0.99      0.99     29886\n",
      "weighted avg       0.99      0.99      0.99     29886\n",
      "\n",
      "\n",
      "LINEAR SVM \n",
      "               precision    recall  f1-score   support\n",
      "\n",
      "           0       0.69      0.12      0.21     15096\n",
      "           1       0.51      0.95      0.67     14790\n",
      "\n",
      "    accuracy                           0.53     29886\n",
      "   macro avg       0.60      0.53      0.44     29886\n",
      "weighted avg       0.60      0.53      0.43     29886\n",
      "\n",
      "\n",
      "SVM \n",
      "               precision    recall  f1-score   support\n",
      "\n",
      "           0       0.74      0.80      0.77     15096\n",
      "           1       0.78      0.71      0.74     14790\n",
      "\n",
      "    accuracy                           0.76     29886\n",
      "   macro avg       0.76      0.76      0.76     29886\n",
      "weighted avg       0.76      0.76      0.76     29886\n",
      "\n",
      "\n"
     ]
    }
   ],
   "source": [
    "# Over Sampled\n",
    "\n",
    "lr_over, abc, gbc_over, xbc_over, rfc_over, lsvc_over, svc_over, X, y = over_sample()"
   ]
  },
  {
   "cell_type": "code",
   "execution_count": 34,
   "metadata": {},
   "outputs": [
    {
     "name": "stdout",
     "output_type": "stream",
     "text": [
      "Counter({0: 49809, 1: 741})\n",
      "Counter({0: 741, 1: 741})\n",
      "LOGISTIC REGRESSION \n",
      "               precision    recall  f1-score   support\n",
      "\n",
      "           0       0.69      0.79      0.73       218\n",
      "           1       0.76      0.65      0.70       227\n",
      "\n",
      "    accuracy                           0.72       445\n",
      "   macro avg       0.72      0.72      0.72       445\n",
      "weighted avg       0.72      0.72      0.72       445\n",
      "\n",
      "\n",
      "DECISION TREE \n",
      "               precision    recall  f1-score   support\n",
      "\n",
      "           0       0.63      0.68      0.66       218\n",
      "           1       0.67      0.62      0.65       227\n",
      "\n",
      "    accuracy                           0.65       445\n",
      "   macro avg       0.65      0.65      0.65       445\n",
      "weighted avg       0.65      0.65      0.65       445\n",
      "\n",
      "\n",
      "ADABOOST \n",
      "               precision    recall  f1-score   support\n",
      "\n",
      "           0       0.70      0.75      0.72       218\n",
      "           1       0.74      0.69      0.71       227\n",
      "\n",
      "    accuracy                           0.72       445\n",
      "   macro avg       0.72      0.72      0.72       445\n",
      "weighted avg       0.72      0.72      0.72       445\n",
      "\n",
      "\n",
      "GRADIENT BOOST \n",
      "               precision    recall  f1-score   support\n",
      "\n",
      "           0       0.69      0.74      0.71       218\n",
      "           1       0.73      0.68      0.70       227\n",
      "\n",
      "    accuracy                           0.71       445\n",
      "   macro avg       0.71      0.71      0.71       445\n",
      "weighted avg       0.71      0.71      0.71       445\n",
      "\n",
      "\n",
      "XGBOOST \n",
      "               precision    recall  f1-score   support\n",
      "\n",
      "           0       0.68      0.72      0.70       218\n",
      "           1       0.71      0.67      0.69       227\n",
      "\n",
      "    accuracy                           0.69       445\n",
      "   macro avg       0.69      0.69      0.69       445\n",
      "weighted avg       0.70      0.69      0.69       445\n",
      "\n",
      "\n",
      "RANDOM FOREST \n",
      "               precision    recall  f1-score   support\n",
      "\n",
      "           0       0.67      0.75      0.71       218\n",
      "           1       0.73      0.64      0.68       227\n",
      "\n",
      "    accuracy                           0.70       445\n",
      "   macro avg       0.70      0.70      0.70       445\n",
      "weighted avg       0.70      0.70      0.70       445\n",
      "\n",
      "\n",
      "LINEAR SVM \n",
      "               precision    recall  f1-score   support\n",
      "\n",
      "           0       0.50      0.97      0.66       218\n",
      "           1       0.70      0.06      0.11       227\n",
      "\n",
      "    accuracy                           0.51       445\n",
      "   macro avg       0.60      0.52      0.39       445\n",
      "weighted avg       0.60      0.51      0.38       445\n",
      "\n",
      "\n",
      "SVM \n",
      "               precision    recall  f1-score   support\n",
      "\n",
      "           0       0.61      0.77      0.68       218\n",
      "           1       0.70      0.53      0.60       227\n",
      "\n",
      "    accuracy                           0.64       445\n",
      "   macro avg       0.66      0.65      0.64       445\n",
      "weighted avg       0.66      0.64      0.64       445\n",
      "\n",
      "\n"
     ]
    }
   ],
   "source": [
    "# Under Sampled\n",
    "\n",
    "lr_under, abc_under, gbc_under, xbc_under, rfc_under, lsvc_under, svc_under, X, y = under_sample()"
   ]
  },
  {
   "cell_type": "markdown",
   "metadata": {},
   "source": [
    "#### Result\n",
    "<b>The scores are all zero for the base model without Sampling.</b><br>\n",
    "<b>For all the sampling models, the scores increased drastically. Over Sampled models produced the best results.</b><br>\n",
    "<b>Going forward, we will not run the models where no sampling is done.</b><br>"
   ]
  },
  {
   "cell_type": "markdown",
   "metadata": {},
   "source": [
    "<hr>"
   ]
  },
  {
   "cell_type": "markdown",
   "metadata": {},
   "source": [
    "### Outliers\n",
    "\n",
    "<b>As mentioned earlier, those over 100yrs will be replaced by the mean of Senior aged customers, and where the Duration is more that 360 will be replaced by 360."
   ]
  },
  {
   "cell_type": "code",
   "execution_count": 35,
   "metadata": {},
   "outputs": [],
   "source": [
    "df[\"Age\"][df[\"Age\"] > 60] = mean_senior"
   ]
  },
  {
   "cell_type": "code",
   "execution_count": 36,
   "metadata": {},
   "outputs": [],
   "source": [
    "df[\"Duration\"][df[\"Duration\"] > 360] = 360"
   ]
  },
  {
   "cell_type": "code",
   "execution_count": 37,
   "metadata": {},
   "outputs": [],
   "source": [
    "X = df.drop(\"Claim\", axis=1)\n",
    "y = df[\"Claim\"]"
   ]
  },
  {
   "cell_type": "code",
   "execution_count": 38,
   "metadata": {},
   "outputs": [],
   "source": [
    "# lr_out, abc_out, gbc_out, xbc_out, rfc_out, lsvc_out, svc_out = models(X, y)"
   ]
  },
  {
   "cell_type": "code",
   "execution_count": 39,
   "metadata": {},
   "outputs": [
    {
     "name": "stdout",
     "output_type": "stream",
     "text": [
      "LOGISTIC REGRESSION \n",
      "               precision    recall  f1-score   support\n",
      "\n",
      "           0       0.70      0.85      0.77       227\n",
      "           1       0.80      0.63      0.70       218\n",
      "\n",
      "    accuracy                           0.74       445\n",
      "   macro avg       0.75      0.74      0.74       445\n",
      "weighted avg       0.75      0.74      0.74       445\n",
      "\n",
      "\n",
      "DECISION TREE \n",
      "               precision    recall  f1-score   support\n",
      "\n",
      "           0       0.69      0.72      0.71       227\n",
      "           1       0.70      0.66      0.68       218\n",
      "\n",
      "    accuracy                           0.69       445\n",
      "   macro avg       0.69      0.69      0.69       445\n",
      "weighted avg       0.69      0.69      0.69       445\n",
      "\n",
      "\n",
      "ADABOOST \n",
      "               precision    recall  f1-score   support\n",
      "\n",
      "           0       0.76      0.82      0.79       227\n",
      "           1       0.80      0.73      0.76       218\n",
      "\n",
      "    accuracy                           0.78       445\n",
      "   macro avg       0.78      0.77      0.77       445\n",
      "weighted avg       0.78      0.78      0.77       445\n",
      "\n",
      "\n",
      "GRADIENT BOOST \n",
      "               precision    recall  f1-score   support\n",
      "\n",
      "           0       0.74      0.81      0.77       227\n",
      "           1       0.78      0.70      0.74       218\n",
      "\n",
      "    accuracy                           0.76       445\n",
      "   macro avg       0.76      0.76      0.76       445\n",
      "weighted avg       0.76      0.76      0.76       445\n",
      "\n",
      "\n",
      "XGBOOST \n",
      "               precision    recall  f1-score   support\n",
      "\n",
      "           0       0.75      0.79      0.77       227\n",
      "           1       0.77      0.72      0.75       218\n",
      "\n",
      "    accuracy                           0.76       445\n",
      "   macro avg       0.76      0.76      0.76       445\n",
      "weighted avg       0.76      0.76      0.76       445\n",
      "\n",
      "\n",
      "RANDOM FOREST \n",
      "               precision    recall  f1-score   support\n",
      "\n",
      "           0       0.74      0.82      0.78       227\n",
      "           1       0.79      0.70      0.74       218\n",
      "\n",
      "    accuracy                           0.76       445\n",
      "   macro avg       0.76      0.76      0.76       445\n",
      "weighted avg       0.76      0.76      0.76       445\n",
      "\n",
      "\n",
      "LINEAR SVM \n",
      "               precision    recall  f1-score   support\n",
      "\n",
      "           0       0.51      0.99      0.68       227\n",
      "           1       0.67      0.03      0.05       218\n",
      "\n",
      "    accuracy                           0.52       445\n",
      "   macro avg       0.59      0.51      0.36       445\n",
      "weighted avg       0.59      0.52      0.37       445\n",
      "\n",
      "\n",
      "SVM \n",
      "               precision    recall  f1-score   support\n",
      "\n",
      "           0       0.69      0.80      0.74       227\n",
      "           1       0.75      0.62      0.68       218\n",
      "\n",
      "    accuracy                           0.71       445\n",
      "   macro avg       0.72      0.71      0.71       445\n",
      "weighted avg       0.72      0.71      0.71       445\n",
      "\n",
      "\n"
     ]
    }
   ],
   "source": [
    "# Manual Under Sampling and Outliers\n",
    "\n",
    "lr_out_sample, abc_out_sample, gbc_out_sample, xbc_out_sample, rfc_out_sample, lsvc_out_sample, svc_out_sample, X, y = sampling(df)"
   ]
  },
  {
   "cell_type": "code",
   "execution_count": 40,
   "metadata": {},
   "outputs": [
    {
     "name": "stdout",
     "output_type": "stream",
     "text": [
      "Counter({0: 49809, 1: 741})\n",
      "Counter({0: 49809, 1: 49809})\n",
      "LOGISTIC REGRESSION \n",
      "               precision    recall  f1-score   support\n",
      "\n",
      "           0       0.71      0.84      0.77     15096\n",
      "           1       0.80      0.64      0.71     14790\n",
      "\n",
      "    accuracy                           0.74     29886\n",
      "   macro avg       0.75      0.74      0.74     29886\n",
      "weighted avg       0.75      0.74      0.74     29886\n",
      "\n",
      "\n",
      "DECISION TREE \n",
      "               precision    recall  f1-score   support\n",
      "\n",
      "           0       1.00      0.97      0.98     15096\n",
      "           1       0.97      1.00      0.98     14790\n",
      "\n",
      "    accuracy                           0.98     29886\n",
      "   macro avg       0.98      0.98      0.98     29886\n",
      "weighted avg       0.98      0.98      0.98     29886\n",
      "\n",
      "\n",
      "ADABOOST \n",
      "               precision    recall  f1-score   support\n",
      "\n",
      "           0       0.77      0.80      0.78     15096\n",
      "           1       0.78      0.75      0.77     14790\n",
      "\n",
      "    accuracy                           0.77     29886\n",
      "   macro avg       0.78      0.77      0.77     29886\n",
      "weighted avg       0.78      0.77      0.77     29886\n",
      "\n",
      "\n",
      "GRADIENT BOOST \n",
      "               precision    recall  f1-score   support\n",
      "\n",
      "           0       0.78      0.81      0.80     15096\n",
      "           1       0.80      0.77      0.78     14790\n",
      "\n",
      "    accuracy                           0.79     29886\n",
      "   macro avg       0.79      0.79      0.79     29886\n",
      "weighted avg       0.79      0.79      0.79     29886\n",
      "\n",
      "\n",
      "XGBOOST \n",
      "               precision    recall  f1-score   support\n",
      "\n",
      "           0       1.00      0.94      0.97     15096\n",
      "           1       0.94      1.00      0.97     14790\n",
      "\n",
      "    accuracy                           0.97     29886\n",
      "   macro avg       0.97      0.97      0.97     29886\n",
      "weighted avg       0.97      0.97      0.97     29886\n",
      "\n",
      "\n",
      "RANDOM FOREST \n",
      "               precision    recall  f1-score   support\n",
      "\n",
      "           0       1.00      0.98      0.99     15096\n",
      "           1       0.98      1.00      0.99     14790\n",
      "\n",
      "    accuracy                           0.99     29886\n",
      "   macro avg       0.99      0.99      0.99     29886\n",
      "weighted avg       0.99      0.99      0.99     29886\n",
      "\n",
      "\n",
      "LINEAR SVM \n",
      "               precision    recall  f1-score   support\n",
      "\n",
      "           0       0.67      0.86      0.76     15096\n",
      "           1       0.80      0.58      0.67     14790\n",
      "\n",
      "    accuracy                           0.72     29886\n",
      "   macro avg       0.74      0.72      0.71     29886\n",
      "weighted avg       0.74      0.72      0.71     29886\n",
      "\n",
      "\n",
      "SVM \n",
      "               precision    recall  f1-score   support\n",
      "\n",
      "           0       0.73      0.80      0.77     15096\n",
      "           1       0.78      0.70      0.74     14790\n",
      "\n",
      "    accuracy                           0.75     29886\n",
      "   macro avg       0.76      0.75      0.75     29886\n",
      "weighted avg       0.76      0.75      0.75     29886\n",
      "\n",
      "\n"
     ]
    }
   ],
   "source": [
    "# Over Sampling and Outliers\n",
    "\n",
    "lr_out_over, abc_out_over, gbc_out_over, xbc_out_over, rfc_out_over, lsvc_out_over, svc_out_over, X, y = over_sample()"
   ]
  },
  {
   "cell_type": "code",
   "execution_count": 41,
   "metadata": {},
   "outputs": [
    {
     "name": "stdout",
     "output_type": "stream",
     "text": [
      "Counter({0: 49809, 1: 741})\n",
      "Counter({0: 741, 1: 741})\n",
      "LOGISTIC REGRESSION \n",
      "               precision    recall  f1-score   support\n",
      "\n",
      "           0       0.68      0.81      0.74       218\n",
      "           1       0.78      0.64      0.70       227\n",
      "\n",
      "    accuracy                           0.72       445\n",
      "   macro avg       0.73      0.72      0.72       445\n",
      "weighted avg       0.73      0.72      0.72       445\n",
      "\n",
      "\n",
      "DECISION TREE \n",
      "               precision    recall  f1-score   support\n",
      "\n",
      "           0       0.65      0.66      0.66       218\n",
      "           1       0.67      0.66      0.67       227\n",
      "\n",
      "    accuracy                           0.66       445\n",
      "   macro avg       0.66      0.66      0.66       445\n",
      "weighted avg       0.66      0.66      0.66       445\n",
      "\n",
      "\n",
      "ADABOOST \n",
      "               precision    recall  f1-score   support\n",
      "\n",
      "           0       0.68      0.76      0.72       218\n",
      "           1       0.74      0.66      0.70       227\n",
      "\n",
      "    accuracy                           0.71       445\n",
      "   macro avg       0.71      0.71      0.71       445\n",
      "weighted avg       0.71      0.71      0.71       445\n",
      "\n",
      "\n",
      "GRADIENT BOOST \n",
      "               precision    recall  f1-score   support\n",
      "\n",
      "           0       0.69      0.78      0.73       218\n",
      "           1       0.76      0.67      0.71       227\n",
      "\n",
      "    accuracy                           0.72       445\n",
      "   macro avg       0.73      0.72      0.72       445\n",
      "weighted avg       0.73      0.72      0.72       445\n",
      "\n",
      "\n",
      "XGBOOST \n",
      "               precision    recall  f1-score   support\n",
      "\n",
      "           0       0.70      0.72      0.71       218\n",
      "           1       0.72      0.70      0.71       227\n",
      "\n",
      "    accuracy                           0.71       445\n",
      "   macro avg       0.71      0.71      0.71       445\n",
      "weighted avg       0.71      0.71      0.71       445\n",
      "\n",
      "\n",
      "RANDOM FOREST \n",
      "               precision    recall  f1-score   support\n",
      "\n",
      "           0       0.69      0.74      0.72       218\n",
      "           1       0.73      0.68      0.70       227\n",
      "\n",
      "    accuracy                           0.71       445\n",
      "   macro avg       0.71      0.71      0.71       445\n",
      "weighted avg       0.71      0.71      0.71       445\n",
      "\n",
      "\n",
      "LINEAR SVM \n",
      "               precision    recall  f1-score   support\n",
      "\n",
      "           0       0.82      0.34      0.48       218\n",
      "           1       0.59      0.93      0.73       227\n",
      "\n",
      "    accuracy                           0.64       445\n",
      "   macro avg       0.71      0.63      0.60       445\n",
      "weighted avg       0.71      0.64      0.61       445\n",
      "\n",
      "\n",
      "SVM \n",
      "               precision    recall  f1-score   support\n",
      "\n",
      "           0       0.61      0.76      0.68       218\n",
      "           1       0.70      0.54      0.61       227\n",
      "\n",
      "    accuracy                           0.64       445\n",
      "   macro avg       0.65      0.65      0.64       445\n",
      "weighted avg       0.65      0.64      0.64       445\n",
      "\n",
      "\n"
     ]
    }
   ],
   "source": [
    "# Under Sampling and Outliers\n",
    "\n",
    "lr_out_under, abc_out_under, gbc_out_under, xbc_out_under, rfc_out_under, lsvc_out_under, svc_out_under, X, y = under_sample()"
   ]
  },
  {
   "cell_type": "markdown",
   "metadata": {},
   "source": [
    "<hr>"
   ]
  },
  {
   "cell_type": "markdown",
   "metadata": {},
   "source": [
    "### Skewness"
   ]
  },
  {
   "cell_type": "code",
   "execution_count": 42,
   "metadata": {},
   "outputs": [
    {
     "name": "stdout",
     "output_type": "stream",
     "text": [
      "Duration        : 3.0381146944318584\n",
      "Commision (in value) : 4.077929249694879\n",
      "Age             : 2.5043395070093535\n"
     ]
    }
   ],
   "source": [
    "print(\"{:<15} : {}\" .format(\"Duration\", skew(df[\"Duration\"])))\n",
    "print(\"{:<15} : {}\" .format(\"Commision (in value)\", skew(df[\"Commision (in value)\"])))\n",
    "print(\"{:<15} : {}\" .format(\"Age\", skew(df[\"Age\"]))) "
   ]
  },
  {
   "cell_type": "code",
   "execution_count": 43,
   "metadata": {},
   "outputs": [],
   "source": [
    "df[\"Duration\"] = np.sqrt(df[\"Duration\"])\n",
    "df[\"Commision (in value)\"] = np.sqrt(df[\"Commision (in value)\"])\n",
    "df[\"Age\"] = np.sqrt(df[\"Age\"])"
   ]
  },
  {
   "cell_type": "code",
   "execution_count": 44,
   "metadata": {},
   "outputs": [
    {
     "name": "stdout",
     "output_type": "stream",
     "text": [
      "Duration        : 1.6361035948952554\n",
      "Commision (in value) : 1.3513398200630384\n",
      "Age             : 1.9417002579049916\n"
     ]
    }
   ],
   "source": [
    "print(\"{:<15} : {}\" .format(\"Duration\", skew(df[\"Duration\"])))\n",
    "print(\"{:<15} : {}\" .format(\"Commision (in value)\", skew(df[\"Commision (in value)\"])))\n",
    "print(\"{:<15} : {}\" .format(\"Age\", skew(df[\"Age\"]))) "
   ]
  },
  {
   "cell_type": "code",
   "execution_count": 45,
   "metadata": {},
   "outputs": [],
   "source": [
    "X = df.drop(\"Claim\", axis=1)\n",
    "y = df[\"Claim\"]"
   ]
  },
  {
   "cell_type": "code",
   "execution_count": 46,
   "metadata": {},
   "outputs": [],
   "source": [
    "# lr_skew, abc_skew, gbc_skew, xbc_skew, rfc_skew, lsvc_skew, svc_skew = models(X, y)"
   ]
  },
  {
   "cell_type": "code",
   "execution_count": 47,
   "metadata": {},
   "outputs": [
    {
     "name": "stdout",
     "output_type": "stream",
     "text": [
      "LOGISTIC REGRESSION \n",
      "               precision    recall  f1-score   support\n",
      "\n",
      "           0       0.70      0.85      0.77       227\n",
      "           1       0.80      0.61      0.70       218\n",
      "\n",
      "    accuracy                           0.74       445\n",
      "   macro avg       0.75      0.73      0.73       445\n",
      "weighted avg       0.75      0.74      0.73       445\n",
      "\n",
      "\n",
      "DECISION TREE \n",
      "               precision    recall  f1-score   support\n",
      "\n",
      "           0       0.67      0.63      0.65       227\n",
      "           1       0.64      0.67      0.66       218\n",
      "\n",
      "    accuracy                           0.65       445\n",
      "   macro avg       0.65      0.65      0.65       445\n",
      "weighted avg       0.65      0.65      0.65       445\n",
      "\n",
      "\n",
      "ADABOOST \n",
      "               precision    recall  f1-score   support\n",
      "\n",
      "           0       0.73      0.76      0.75       227\n",
      "           1       0.74      0.71      0.72       218\n",
      "\n",
      "    accuracy                           0.73       445\n",
      "   macro avg       0.74      0.73      0.73       445\n",
      "weighted avg       0.74      0.73      0.73       445\n",
      "\n",
      "\n",
      "GRADIENT BOOST \n",
      "               precision    recall  f1-score   support\n",
      "\n",
      "           0       0.72      0.80      0.76       227\n",
      "           1       0.76      0.68      0.72       218\n",
      "\n",
      "    accuracy                           0.74       445\n",
      "   macro avg       0.74      0.74      0.74       445\n",
      "weighted avg       0.74      0.74      0.74       445\n",
      "\n",
      "\n",
      "XGBOOST \n",
      "               precision    recall  f1-score   support\n",
      "\n",
      "           0       0.72      0.73      0.72       227\n",
      "           1       0.71      0.70      0.71       218\n",
      "\n",
      "    accuracy                           0.71       445\n",
      "   macro avg       0.71      0.71      0.71       445\n",
      "weighted avg       0.71      0.71      0.71       445\n",
      "\n",
      "\n",
      "RANDOM FOREST \n",
      "               precision    recall  f1-score   support\n",
      "\n",
      "           0       0.72      0.74      0.73       227\n",
      "           1       0.72      0.71      0.71       218\n",
      "\n",
      "    accuracy                           0.72       445\n",
      "   macro avg       0.72      0.72      0.72       445\n",
      "weighted avg       0.72      0.72      0.72       445\n",
      "\n",
      "\n",
      "LINEAR SVM \n",
      "               precision    recall  f1-score   support\n",
      "\n",
      "           0       0.66      0.42      0.51       227\n",
      "           1       0.56      0.78      0.65       218\n",
      "\n",
      "    accuracy                           0.60       445\n",
      "   macro avg       0.61      0.60      0.58       445\n",
      "weighted avg       0.61      0.60      0.58       445\n",
      "\n",
      "\n",
      "SVM \n",
      "               precision    recall  f1-score   support\n",
      "\n",
      "           0       0.68      0.78      0.73       227\n",
      "           1       0.73      0.62      0.67       218\n",
      "\n",
      "    accuracy                           0.70       445\n",
      "   macro avg       0.71      0.70      0.70       445\n",
      "weighted avg       0.71      0.70      0.70       445\n",
      "\n",
      "\n"
     ]
    }
   ],
   "source": [
    "# Manual Under Sampling and Skewing\n",
    "\n",
    "lr_skew_sample, abc_skew_sample, gbc_skew_sample, xbc_skew_sample, rfc_skew_sample, lsvc_skew_sample, svc_skew_sample, X, y = sampling(df)"
   ]
  },
  {
   "cell_type": "code",
   "execution_count": 48,
   "metadata": {},
   "outputs": [
    {
     "name": "stdout",
     "output_type": "stream",
     "text": [
      "Counter({0: 49809, 1: 741})\n",
      "Counter({0: 49809, 1: 49809})\n",
      "LOGISTIC REGRESSION \n",
      "               precision    recall  f1-score   support\n",
      "\n",
      "           0       0.72      0.82      0.76     15096\n",
      "           1       0.78      0.67      0.72     14790\n",
      "\n",
      "    accuracy                           0.74     29886\n",
      "   macro avg       0.75      0.74      0.74     29886\n",
      "weighted avg       0.75      0.74      0.74     29886\n",
      "\n",
      "\n",
      "DECISION TREE \n",
      "               precision    recall  f1-score   support\n",
      "\n",
      "           0       1.00      0.97      0.98     15096\n",
      "           1       0.97      1.00      0.98     14790\n",
      "\n",
      "    accuracy                           0.98     29886\n",
      "   macro avg       0.99      0.98      0.98     29886\n",
      "weighted avg       0.99      0.98      0.98     29886\n",
      "\n",
      "\n",
      "ADABOOST \n",
      "               precision    recall  f1-score   support\n",
      "\n",
      "           0       0.78      0.79      0.78     15096\n",
      "           1       0.78      0.77      0.78     14790\n",
      "\n",
      "    accuracy                           0.78     29886\n",
      "   macro avg       0.78      0.78      0.78     29886\n",
      "weighted avg       0.78      0.78      0.78     29886\n",
      "\n",
      "\n",
      "GRADIENT BOOST \n",
      "               precision    recall  f1-score   support\n",
      "\n",
      "           0       0.78      0.81      0.80     15096\n",
      "           1       0.80      0.77      0.78     14790\n",
      "\n",
      "    accuracy                           0.79     29886\n",
      "   macro avg       0.79      0.79      0.79     29886\n",
      "weighted avg       0.79      0.79      0.79     29886\n",
      "\n",
      "\n",
      "XGBOOST \n",
      "               precision    recall  f1-score   support\n",
      "\n",
      "           0       1.00      0.94      0.97     15096\n",
      "           1       0.95      1.00      0.97     14790\n",
      "\n",
      "    accuracy                           0.97     29886\n",
      "   macro avg       0.97      0.97      0.97     29886\n",
      "weighted avg       0.97      0.97      0.97     29886\n",
      "\n",
      "\n",
      "RANDOM FOREST \n",
      "               precision    recall  f1-score   support\n",
      "\n",
      "           0       1.00      0.98      0.99     15096\n",
      "           1       0.98      1.00      0.99     14790\n",
      "\n",
      "    accuracy                           0.99     29886\n",
      "   macro avg       0.99      0.99      0.99     29886\n",
      "weighted avg       0.99      0.99      0.99     29886\n",
      "\n",
      "\n",
      "LINEAR SVM \n",
      "               precision    recall  f1-score   support\n",
      "\n",
      "           0       0.75      0.72      0.74     15096\n",
      "           1       0.73      0.75      0.74     14790\n",
      "\n",
      "    accuracy                           0.74     29886\n",
      "   macro avg       0.74      0.74      0.74     29886\n",
      "weighted avg       0.74      0.74      0.74     29886\n",
      "\n",
      "\n",
      "SVM \n",
      "               precision    recall  f1-score   support\n",
      "\n",
      "           0       0.72      0.82      0.77     15096\n",
      "           1       0.78      0.67      0.72     14790\n",
      "\n",
      "    accuracy                           0.75     29886\n",
      "   macro avg       0.75      0.75      0.75     29886\n",
      "weighted avg       0.75      0.75      0.75     29886\n",
      "\n",
      "\n"
     ]
    }
   ],
   "source": [
    "# Over Sampling and Skewing\n",
    "\n",
    "lr_skew_over, abc_skew_over, gbc_skew_over, xbc_skew_over, rfc_skew_over, lsvc_skew_over, svc_skew_over, X, y = over_sample()"
   ]
  },
  {
   "cell_type": "code",
   "execution_count": 49,
   "metadata": {},
   "outputs": [
    {
     "name": "stdout",
     "output_type": "stream",
     "text": [
      "Counter({0: 49809, 1: 741})\n",
      "Counter({0: 741, 1: 741})\n",
      "LOGISTIC REGRESSION \n",
      "               precision    recall  f1-score   support\n",
      "\n",
      "           0       0.70      0.83      0.76       218\n",
      "           1       0.80      0.65      0.72       227\n",
      "\n",
      "    accuracy                           0.74       445\n",
      "   macro avg       0.75      0.74      0.74       445\n",
      "weighted avg       0.75      0.74      0.74       445\n",
      "\n",
      "\n",
      "DECISION TREE \n",
      "               precision    recall  f1-score   support\n",
      "\n",
      "           0       0.63      0.72      0.67       218\n",
      "           1       0.69      0.59      0.64       227\n",
      "\n",
      "    accuracy                           0.65       445\n",
      "   macro avg       0.66      0.66      0.65       445\n",
      "weighted avg       0.66      0.65      0.65       445\n",
      "\n",
      "\n",
      "ADABOOST \n",
      "               precision    recall  f1-score   support\n",
      "\n",
      "           0       0.71      0.79      0.75       218\n",
      "           1       0.78      0.69      0.73       227\n",
      "\n",
      "    accuracy                           0.74       445\n",
      "   macro avg       0.74      0.74      0.74       445\n",
      "weighted avg       0.74      0.74      0.74       445\n",
      "\n",
      "\n",
      "GRADIENT BOOST \n",
      "               precision    recall  f1-score   support\n",
      "\n",
      "           0       0.72      0.80      0.76       218\n",
      "           1       0.78      0.70      0.74       227\n",
      "\n",
      "    accuracy                           0.75       445\n",
      "   macro avg       0.75      0.75      0.75       445\n",
      "weighted avg       0.75      0.75      0.75       445\n",
      "\n",
      "\n",
      "XGBOOST \n",
      "               precision    recall  f1-score   support\n",
      "\n",
      "           0       0.71      0.78      0.74       218\n",
      "           1       0.77      0.69      0.73       227\n",
      "\n",
      "    accuracy                           0.73       445\n",
      "   macro avg       0.74      0.74      0.73       445\n",
      "weighted avg       0.74      0.73      0.73       445\n",
      "\n",
      "\n",
      "RANDOM FOREST \n",
      "               precision    recall  f1-score   support\n",
      "\n",
      "           0       0.69      0.78      0.73       218\n",
      "           1       0.76      0.67      0.71       227\n",
      "\n",
      "    accuracy                           0.72       445\n",
      "   macro avg       0.73      0.72      0.72       445\n",
      "weighted avg       0.73      0.72      0.72       445\n",
      "\n",
      "\n",
      "LINEAR SVM \n",
      "               precision    recall  f1-score   support\n",
      "\n",
      "           0       0.59      0.85      0.70       218\n",
      "           1       0.76      0.44      0.56       227\n",
      "\n",
      "    accuracy                           0.64       445\n",
      "   macro avg       0.68      0.65      0.63       445\n",
      "weighted avg       0.68      0.64      0.63       445\n",
      "\n",
      "\n",
      "SVM \n",
      "               precision    recall  f1-score   support\n",
      "\n",
      "           0       0.64      0.82      0.72       218\n",
      "           1       0.76      0.56      0.65       227\n",
      "\n",
      "    accuracy                           0.69       445\n",
      "   macro avg       0.70      0.69      0.68       445\n",
      "weighted avg       0.70      0.69      0.68       445\n",
      "\n",
      "\n"
     ]
    }
   ],
   "source": [
    "# Under Sampling and Skewing\n",
    "\n",
    "lr_skew_under, abc_skew_under, gbc_skew_under, xbc_skew_under, rfc_skew_under, lsvc_skew_under, svc_skew_under, X, y = under_sample()"
   ]
  },
  {
   "cell_type": "markdown",
   "metadata": {},
   "source": [
    "<hr>"
   ]
  },
  {
   "cell_type": "markdown",
   "metadata": {},
   "source": [
    "### Performing Chi-squared test"
   ]
  },
  {
   "cell_type": "code",
   "execution_count": 50,
   "metadata": {},
   "outputs": [
    {
     "data": {
      "text/plain": [
       "10"
      ]
     },
     "execution_count": 50,
     "metadata": {},
     "output_type": "execute_result"
    }
   ],
   "source": [
    "len(df.columns)"
   ]
  },
  {
   "cell_type": "code",
   "execution_count": 51,
   "metadata": {},
   "outputs": [],
   "source": [
    "X = df.drop(\"Claim\", axis=1)\n",
    "y = df[\"Claim\"]"
   ]
  },
  {
   "cell_type": "code",
   "execution_count": 52,
   "metadata": {},
   "outputs": [],
   "source": [
    "X_cols = []\n",
    "\n",
    "for col in X:\n",
    "    X_cols.append(col)"
   ]
  },
  {
   "cell_type": "code",
   "execution_count": 53,
   "metadata": {},
   "outputs": [],
   "source": [
    "def model_chi(model, X):\n",
    "    X_train, X_test, y_train, y_test = train_test_split(X, y, test_size=0.3, random_state=1)\n",
    "    \n",
    "    chi_test = SelectKBest(score_func=chi2, k=6)\n",
    "\n",
    "    X_train_chi = chi_test.fit_transform(X_train, y_train)\n",
    "    X_test_chi = chi_test.transform(X_test)\n",
    "    \n",
    "    model.fit(X_train_chi, y_train)\n",
    "    y_pred = model.predict(X_test_chi)\n",
    "    \n",
    "    print(classification_report(y_test, y_pred))\n",
    "    \n",
    "    num = 0\n",
    "    \n",
    "    for each in chi_test.scores_:\n",
    "        print(\"{:2} {:20} - {}\" .format(num, X_cols[num], each))\n",
    "        num += 1"
   ]
  },
  {
   "cell_type": "code",
   "execution_count": 54,
   "metadata": {},
   "outputs": [],
   "source": [
    "def model_new(X):\n",
    "    lr = LogisticRegression()\n",
    "    dtc = DecisionTreeClassifier(criterion=\"entropy\")\n",
    "    abc = AdaBoostClassifier(n_estimators=100)\n",
    "    gbc = GradientBoostingClassifier(n_estimators=100)\n",
    "    xbc = XGBClassifier(n_estimators=200, reg_alpha=1)\n",
    "    rfc = RandomForestClassifier()\n",
    "    print(\"{} \\n {}\\n\" .format(\"LOGISTIC REGRESSION\", model_chi(lr,X)))\n",
    "    print(\"{} \\n {}\\n\" .format(\"DECISION TREE\", model_sel(dtc,X)))\n",
    "    print(\"{} \\n {}\\n\" .format(\"ADABOOST\", model_chi(abc,X)))\n",
    "    print(\"{} \\n {}\\n\" .format(\"GRADIENT BOOST\", model_chi(gbc,X)))\n",
    "    print(\"{} \\n {}\\n\" .format(\"XGBOOST\", model_chi(xbc,X)))\n",
    "    print(\"{} \\n {}\\n\" .format(\"RANDOM FOREST\", model_chi(rfc,X)))\n",
    "    \n",
    "    return lr, abc, gbc, xbc, rfc"
   ]
  },
  {
   "cell_type": "markdown",
   "metadata": {},
   "source": [
    "lr_chi, abc_chi, gbc_chi, xbc_chi, rfc_chi = model_new(X)"
   ]
  },
  {
   "cell_type": "markdown",
   "metadata": {},
   "source": [
    "<b>RandomForest still has the best score."
   ]
  },
  {
   "cell_type": "code",
   "execution_count": 55,
   "metadata": {},
   "outputs": [],
   "source": [
    "X = df.drop(\"Claim\", axis=1)\n",
    "y = df[\"Claim\"]"
   ]
  },
  {
   "cell_type": "code",
   "execution_count": 56,
   "metadata": {},
   "outputs": [],
   "source": [
    "X_cols = []\n",
    "\n",
    "for col in X:\n",
    "    X_cols.append(col)"
   ]
  },
  {
   "cell_type": "code",
   "execution_count": 57,
   "metadata": {},
   "outputs": [],
   "source": [
    "# lr_chi, abc_chi, gbc_chi, xbc_chi, rfc_chi = model_new(X)"
   ]
  },
  {
   "cell_type": "markdown",
   "metadata": {},
   "source": [
    "<hr>"
   ]
  },
  {
   "cell_type": "markdown",
   "metadata": {},
   "source": [
    "### Scaling"
   ]
  },
  {
   "cell_type": "code",
   "execution_count": 58,
   "metadata": {},
   "outputs": [],
   "source": [
    "df_old = df.copy(deep=True)"
   ]
  },
  {
   "cell_type": "code",
   "execution_count": 59,
   "metadata": {},
   "outputs": [],
   "source": [
    "mm = MinMaxScaler()\n",
    "\n",
    "X = df.drop(\"Claim\", axis=1)\n",
    "cols = X.columns.to_list()\n",
    "df[cols] = mm.fit_transform(df[cols])"
   ]
  },
  {
   "cell_type": "code",
   "execution_count": 60,
   "metadata": {},
   "outputs": [
    {
     "data": {
      "text/html": [
       "<div>\n",
       "<style scoped>\n",
       "    .dataframe tbody tr th:only-of-type {\n",
       "        vertical-align: middle;\n",
       "    }\n",
       "\n",
       "    .dataframe tbody tr th {\n",
       "        vertical-align: top;\n",
       "    }\n",
       "\n",
       "    .dataframe thead th {\n",
       "        text-align: right;\n",
       "    }\n",
       "</style>\n",
       "<table border=\"1\" class=\"dataframe\">\n",
       "  <thead>\n",
       "    <tr style=\"text-align: right;\">\n",
       "      <th></th>\n",
       "      <th>Agency</th>\n",
       "      <th>Agency Type</th>\n",
       "      <th>Distribution Channel</th>\n",
       "      <th>Product Name</th>\n",
       "      <th>Claim</th>\n",
       "      <th>Duration</th>\n",
       "      <th>Destination</th>\n",
       "      <th>Net Sales</th>\n",
       "      <th>Commision (in value)</th>\n",
       "      <th>Age</th>\n",
       "    </tr>\n",
       "  </thead>\n",
       "  <tbody>\n",
       "    <tr>\n",
       "      <th>0</th>\n",
       "      <td>0.400000</td>\n",
       "      <td>1.0</td>\n",
       "      <td>1.0</td>\n",
       "      <td>0.666667</td>\n",
       "      <td>0</td>\n",
       "      <td>0.139443</td>\n",
       "      <td>0.554455</td>\n",
       "      <td>0.324437</td>\n",
       "      <td>0.250713</td>\n",
       "      <td>0.553716</td>\n",
       "    </tr>\n",
       "    <tr>\n",
       "      <th>1</th>\n",
       "      <td>0.466667</td>\n",
       "      <td>1.0</td>\n",
       "      <td>1.0</td>\n",
       "      <td>0.416667</td>\n",
       "      <td>0</td>\n",
       "      <td>0.485913</td>\n",
       "      <td>0.782178</td>\n",
       "      <td>0.381985</td>\n",
       "      <td>0.000000</td>\n",
       "      <td>0.596702</td>\n",
       "    </tr>\n",
       "    <tr>\n",
       "      <th>2</th>\n",
       "      <td>0.400000</td>\n",
       "      <td>1.0</td>\n",
       "      <td>1.0</td>\n",
       "      <td>0.666667</td>\n",
       "      <td>0</td>\n",
       "      <td>0.174801</td>\n",
       "      <td>0.554455</td>\n",
       "      <td>0.340951</td>\n",
       "      <td>0.204707</td>\n",
       "      <td>1.000000</td>\n",
       "    </tr>\n",
       "    <tr>\n",
       "      <th>3</th>\n",
       "      <td>0.466667</td>\n",
       "      <td>1.0</td>\n",
       "      <td>1.0</td>\n",
       "      <td>0.041667</td>\n",
       "      <td>0</td>\n",
       "      <td>0.210819</td>\n",
       "      <td>0.376238</td>\n",
       "      <td>0.341118</td>\n",
       "      <td>0.000000</td>\n",
       "      <td>0.562576</td>\n",
       "    </tr>\n",
       "    <tr>\n",
       "      <th>4</th>\n",
       "      <td>0.466667</td>\n",
       "      <td>1.0</td>\n",
       "      <td>1.0</td>\n",
       "      <td>0.416667</td>\n",
       "      <td>0</td>\n",
       "      <td>0.166667</td>\n",
       "      <td>0.465347</td>\n",
       "      <td>0.336947</td>\n",
       "      <td>0.000000</td>\n",
       "      <td>0.535557</td>\n",
       "    </tr>\n",
       "  </tbody>\n",
       "</table>\n",
       "</div>"
      ],
      "text/plain": [
       "     Agency  Agency Type  Distribution Channel  Product Name  Claim  Duration  \\\n",
       "0  0.400000          1.0                   1.0      0.666667      0  0.139443   \n",
       "1  0.466667          1.0                   1.0      0.416667      0  0.485913   \n",
       "2  0.400000          1.0                   1.0      0.666667      0  0.174801   \n",
       "3  0.466667          1.0                   1.0      0.041667      0  0.210819   \n",
       "4  0.466667          1.0                   1.0      0.416667      0  0.166667   \n",
       "\n",
       "   Destination  Net Sales  Commision (in value)       Age  \n",
       "0     0.554455   0.324437              0.250713  0.553716  \n",
       "1     0.782178   0.381985              0.000000  0.596702  \n",
       "2     0.554455   0.340951              0.204707  1.000000  \n",
       "3     0.376238   0.341118              0.000000  0.562576  \n",
       "4     0.465347   0.336947              0.000000  0.535557  "
      ]
     },
     "execution_count": 60,
     "metadata": {},
     "output_type": "execute_result"
    }
   ],
   "source": [
    "df.head()"
   ]
  },
  {
   "cell_type": "code",
   "execution_count": 61,
   "metadata": {},
   "outputs": [],
   "source": [
    "X = df.drop(\"Claim\", axis=1)\n",
    "y = df[\"Claim\"]"
   ]
  },
  {
   "cell_type": "code",
   "execution_count": 62,
   "metadata": {},
   "outputs": [],
   "source": [
    "# lr_scale, abc_scale, gbc_scale, xbc_scale, rfc_scale, lsvc_scale, svc_scale = models(X, y)"
   ]
  },
  {
   "cell_type": "code",
   "execution_count": 63,
   "metadata": {},
   "outputs": [
    {
     "name": "stdout",
     "output_type": "stream",
     "text": [
      "LOGISTIC REGRESSION \n",
      "               precision    recall  f1-score   support\n",
      "\n",
      "           0       0.69      0.81      0.75       227\n",
      "           1       0.76      0.63      0.69       218\n",
      "\n",
      "    accuracy                           0.72       445\n",
      "   macro avg       0.73      0.72      0.72       445\n",
      "weighted avg       0.73      0.72      0.72       445\n",
      "\n",
      "\n",
      "DECISION TREE \n",
      "               precision    recall  f1-score   support\n",
      "\n",
      "           0       0.67      0.64      0.66       227\n",
      "           1       0.64      0.68      0.66       218\n",
      "\n",
      "    accuracy                           0.66       445\n",
      "   macro avg       0.66      0.66      0.66       445\n",
      "weighted avg       0.66      0.66      0.66       445\n",
      "\n",
      "\n",
      "ADABOOST \n",
      "               precision    recall  f1-score   support\n",
      "\n",
      "           0       0.73      0.75      0.74       227\n",
      "           1       0.74      0.72      0.73       218\n",
      "\n",
      "    accuracy                           0.73       445\n",
      "   macro avg       0.73      0.73      0.73       445\n",
      "weighted avg       0.73      0.73      0.73       445\n",
      "\n",
      "\n",
      "GRADIENT BOOST \n",
      "               precision    recall  f1-score   support\n",
      "\n",
      "           0       0.75      0.76      0.76       227\n",
      "           1       0.75      0.74      0.74       218\n",
      "\n",
      "    accuracy                           0.75       445\n",
      "   macro avg       0.75      0.75      0.75       445\n",
      "weighted avg       0.75      0.75      0.75       445\n",
      "\n",
      "\n",
      "XGBOOST \n",
      "               precision    recall  f1-score   support\n",
      "\n",
      "           0       0.72      0.70      0.71       227\n",
      "           1       0.70      0.71      0.70       218\n",
      "\n",
      "    accuracy                           0.71       445\n",
      "   macro avg       0.71      0.71      0.71       445\n",
      "weighted avg       0.71      0.71      0.71       445\n",
      "\n",
      "\n",
      "RANDOM FOREST \n",
      "               precision    recall  f1-score   support\n",
      "\n",
      "           0       0.74      0.73      0.73       227\n",
      "           1       0.72      0.73      0.73       218\n",
      "\n",
      "    accuracy                           0.73       445\n",
      "   macro avg       0.73      0.73      0.73       445\n",
      "weighted avg       0.73      0.73      0.73       445\n",
      "\n",
      "\n",
      "LINEAR SVM \n",
      "               precision    recall  f1-score   support\n",
      "\n",
      "           0       0.70      0.82      0.76       227\n",
      "           1       0.77      0.64      0.70       218\n",
      "\n",
      "    accuracy                           0.73       445\n",
      "   macro avg       0.74      0.73      0.73       445\n",
      "weighted avg       0.74      0.73      0.73       445\n",
      "\n",
      "\n",
      "SVM \n",
      "               precision    recall  f1-score   support\n",
      "\n",
      "           0       0.70      0.83      0.76       227\n",
      "           1       0.78      0.63      0.70       218\n",
      "\n",
      "    accuracy                           0.73       445\n",
      "   macro avg       0.74      0.73      0.73       445\n",
      "weighted avg       0.74      0.73      0.73       445\n",
      "\n",
      "\n"
     ]
    }
   ],
   "source": [
    "# Manual Under Sampling and Scalling \n",
    "\n",
    "lr_scale_sample, abc_scale_sample, gbc_scale_sample, xbc_scale_sample, rfc_scale_sample, lsvc_scale_sample, svc_scale_sample, X, y = sampling(df)"
   ]
  },
  {
   "cell_type": "code",
   "execution_count": 64,
   "metadata": {},
   "outputs": [
    {
     "name": "stdout",
     "output_type": "stream",
     "text": [
      "Counter({0: 49809, 1: 741})\n",
      "Counter({0: 49809, 1: 49809})\n",
      "LOGISTIC REGRESSION \n",
      "               precision    recall  f1-score   support\n",
      "\n",
      "           0       0.72      0.83      0.77     15096\n",
      "           1       0.79      0.66      0.72     14790\n",
      "\n",
      "    accuracy                           0.75     29886\n",
      "   macro avg       0.75      0.75      0.75     29886\n",
      "weighted avg       0.75      0.75      0.75     29886\n",
      "\n",
      "\n",
      "DECISION TREE \n",
      "               precision    recall  f1-score   support\n",
      "\n",
      "           0       1.00      0.97      0.98     15096\n",
      "           1       0.97      1.00      0.98     14790\n",
      "\n",
      "    accuracy                           0.98     29886\n",
      "   macro avg       0.99      0.98      0.98     29886\n",
      "weighted avg       0.99      0.98      0.98     29886\n",
      "\n",
      "\n",
      "ADABOOST \n",
      "               precision    recall  f1-score   support\n",
      "\n",
      "           0       0.77      0.80      0.78     15096\n",
      "           1       0.79      0.76      0.77     14790\n",
      "\n",
      "    accuracy                           0.78     29886\n",
      "   macro avg       0.78      0.78      0.78     29886\n",
      "weighted avg       0.78      0.78      0.78     29886\n",
      "\n",
      "\n",
      "GRADIENT BOOST \n",
      "               precision    recall  f1-score   support\n",
      "\n",
      "           0       0.78      0.81      0.80     15096\n",
      "           1       0.80      0.76      0.78     14790\n",
      "\n",
      "    accuracy                           0.79     29886\n",
      "   macro avg       0.79      0.79      0.79     29886\n",
      "weighted avg       0.79      0.79      0.79     29886\n",
      "\n",
      "\n",
      "XGBOOST \n",
      "               precision    recall  f1-score   support\n",
      "\n",
      "           0       1.00      0.94      0.97     15096\n",
      "           1       0.95      1.00      0.97     14790\n",
      "\n",
      "    accuracy                           0.97     29886\n",
      "   macro avg       0.97      0.97      0.97     29886\n",
      "weighted avg       0.97      0.97      0.97     29886\n",
      "\n",
      "\n",
      "RANDOM FOREST \n",
      "               precision    recall  f1-score   support\n",
      "\n",
      "           0       1.00      0.98      0.99     15096\n",
      "           1       0.98      1.00      0.99     14790\n",
      "\n",
      "    accuracy                           0.99     29886\n",
      "   macro avg       0.99      0.99      0.99     29886\n",
      "weighted avg       0.99      0.99      0.99     29886\n",
      "\n",
      "\n",
      "LINEAR SVM \n",
      "               precision    recall  f1-score   support\n",
      "\n",
      "           0       0.71      0.83      0.77     15096\n",
      "           1       0.79      0.65      0.72     14790\n",
      "\n",
      "    accuracy                           0.74     29886\n",
      "   macro avg       0.75      0.74      0.74     29886\n",
      "weighted avg       0.75      0.74      0.74     29886\n",
      "\n",
      "\n",
      "SVM \n",
      "               precision    recall  f1-score   support\n",
      "\n",
      "           0       0.73      0.84      0.78     15096\n",
      "           1       0.81      0.68      0.74     14790\n",
      "\n",
      "    accuracy                           0.76     29886\n",
      "   macro avg       0.77      0.76      0.76     29886\n",
      "weighted avg       0.77      0.76      0.76     29886\n",
      "\n",
      "\n"
     ]
    }
   ],
   "source": [
    "# Over Sampling and Scalling\n",
    "\n",
    "lr_scale_over, abc_scale_over, gbc_scale_over, xbc_scale_over, rfc_scale_over, lsvc_scale_over, svc_scale_over, X, y = over_sample()"
   ]
  },
  {
   "cell_type": "code",
   "execution_count": 65,
   "metadata": {},
   "outputs": [
    {
     "name": "stdout",
     "output_type": "stream",
     "text": [
      "Counter({0: 49809, 1: 741})\n",
      "Counter({0: 741, 1: 741})\n",
      "LOGISTIC REGRESSION \n",
      "               precision    recall  f1-score   support\n",
      "\n",
      "           0       0.70      0.83      0.76       218\n",
      "           1       0.81      0.66      0.72       227\n",
      "\n",
      "    accuracy                           0.74       445\n",
      "   macro avg       0.75      0.75      0.74       445\n",
      "weighted avg       0.75      0.74      0.74       445\n",
      "\n",
      "\n",
      "DECISION TREE \n",
      "               precision    recall  f1-score   support\n",
      "\n",
      "           0       0.63      0.72      0.67       218\n",
      "           1       0.69      0.60      0.64       227\n",
      "\n",
      "    accuracy                           0.66       445\n",
      "   macro avg       0.66      0.66      0.66       445\n",
      "weighted avg       0.66      0.66      0.66       445\n",
      "\n",
      "\n",
      "ADABOOST \n",
      "               precision    recall  f1-score   support\n",
      "\n",
      "           0       0.71      0.82      0.76       218\n",
      "           1       0.79      0.67      0.73       227\n",
      "\n",
      "    accuracy                           0.74       445\n",
      "   macro avg       0.75      0.75      0.74       445\n",
      "weighted avg       0.75      0.74      0.74       445\n",
      "\n",
      "\n",
      "GRADIENT BOOST \n",
      "               precision    recall  f1-score   support\n",
      "\n",
      "           0       0.70      0.79      0.74       218\n",
      "           1       0.77      0.67      0.72       227\n",
      "\n",
      "    accuracy                           0.73       445\n",
      "   macro avg       0.73      0.73      0.73       445\n",
      "weighted avg       0.73      0.73      0.73       445\n",
      "\n",
      "\n",
      "XGBOOST \n",
      "               precision    recall  f1-score   support\n",
      "\n",
      "           0       0.68      0.77      0.72       218\n",
      "           1       0.75      0.65      0.70       227\n",
      "\n",
      "    accuracy                           0.71       445\n",
      "   macro avg       0.71      0.71      0.71       445\n",
      "weighted avg       0.71      0.71      0.71       445\n",
      "\n",
      "\n",
      "RANDOM FOREST \n",
      "               precision    recall  f1-score   support\n",
      "\n",
      "           0       0.68      0.79      0.73       218\n",
      "           1       0.76      0.64      0.69       227\n",
      "\n",
      "    accuracy                           0.71       445\n",
      "   macro avg       0.72      0.71      0.71       445\n",
      "weighted avg       0.72      0.71      0.71       445\n",
      "\n",
      "\n",
      "LINEAR SVM \n",
      "               precision    recall  f1-score   support\n",
      "\n",
      "           0       0.71      0.83      0.77       218\n",
      "           1       0.81      0.67      0.73       227\n",
      "\n",
      "    accuracy                           0.75       445\n",
      "   macro avg       0.76      0.75      0.75       445\n",
      "weighted avg       0.76      0.75      0.75       445\n",
      "\n",
      "\n",
      "SVM \n",
      "               precision    recall  f1-score   support\n",
      "\n",
      "           0       0.70      0.87      0.78       218\n",
      "           1       0.84      0.65      0.73       227\n",
      "\n",
      "    accuracy                           0.76       445\n",
      "   macro avg       0.77      0.76      0.75       445\n",
      "weighted avg       0.77      0.76      0.75       445\n",
      "\n",
      "\n"
     ]
    }
   ],
   "source": [
    "# Under Sampling and Scalling\n",
    "\n",
    "lr_scale_under, abc_scale_under, gbc_scale_under, xbc_scale_under, rfc_scale_under, lsvc_scale_under, svc_scale_under, X, y = under_sample()"
   ]
  },
  {
   "cell_type": "markdown",
   "metadata": {},
   "source": [
    "<hr>"
   ]
  },
  {
   "cell_type": "markdown",
   "metadata": {},
   "source": [
    "### Saving best model in a file through Pickle"
   ]
  },
  {
   "cell_type": "code",
   "execution_count": 67,
   "metadata": {},
   "outputs": [],
   "source": [
    "file = open(\"TravelInsurance.ser\", \"wb\")\n",
    "pickle.dump(rfc_under, file)\n",
    "file.close()"
   ]
  },
  {
   "cell_type": "markdown",
   "metadata": {},
   "source": [
    "<hr>"
   ]
  },
  {
   "cell_type": "markdown",
   "metadata": {},
   "source": [
    "### Below blocks of code are not in use anymore"
   ]
  },
  {
   "cell_type": "raw",
   "metadata": {},
   "source": [
    "dtc = DecisionTreeClassifier()\n",
    "parameter = {\"criterion\" : (\"entropy\", \"gini\"), \"max_depth\" : ([i for i in range(1,21)]), \"min_samples_leaf\": ([i for i in range(15,26)])}\n",
    "\n",
    "dtc_gscv = gridsearch(dtc, parameter, X, y)"
   ]
  },
  {
   "cell_type": "raw",
   "metadata": {},
   "source": [
    "abc = AdaBoostClassifier()\n",
    "parameter = {\"learning_rate\" : (np.arange(0.1, 1.1, 0.1)), \"n_estimators\" : ([i for i in range(50,201,50)])}\n",
    "\n",
    "abc_gscv = gridsearch(abc, parameter, X, y)"
   ]
  },
  {
   "cell_type": "raw",
   "metadata": {},
   "source": [
    "gbc = GradientBoostingClassifier()\n",
    "# parameter = {\"learning_rate\" : (np.arange(0.1, 1.1, 0.1)), \"n_estimators\" : ([i for i in range(50,201,50)]), \"max_depth\" : ([i for i in range(1,21)]), \"min_samples_leaf\": ([i for i in range(15,26)])}\n",
    "parameter = {\"n_estimators\" : ([46]), \"max_depth\" : ([6])}\n",
    "\n",
    "gbc_gscv = gridsearch(gbc, parameter, X, y)"
   ]
  },
  {
   "cell_type": "raw",
   "metadata": {},
   "source": [
    "xgb = XGBClassifier()\n",
    "# parameter = {\"n_estimators\" : ([i for i in range(45,50)]), \"max_depth\" : ([i for i in range(3,8)])}\n",
    "parameter = {\"n_estimators\" : ([i for i in range(30,41)])}\n",
    "\n",
    "xgb_gscv = gridsearch(xgb, parameter, X, y)"
   ]
  },
  {
   "cell_type": "raw",
   "metadata": {},
   "source": [
    "rfc = RandomForestClassifier()\n",
    "parameter = {\"n_estimators\" : ([i for i in range(45,50)]), \"max_depth\" : ([7])}\n",
    "\n",
    "rfc_gscv = gridsearch(rfc, parameter, X, y)"
   ]
  },
  {
   "cell_type": "raw",
   "metadata": {},
   "source": [
    "lsvc = LinearSVC(random_state=1)\n",
    "parameter = {}\n",
    "\n",
    "lsvc_gscv = gridsearch(lsvc, parameter, X, y)"
   ]
  },
  {
   "cell_type": "raw",
   "metadata": {},
   "source": [
    "svc = SVC(random_state=1)\n",
    "# parameter = {\"C\" : (np.arange(0.1, 1.1, 0.1))}\n",
    "parameter = {}\n",
    "\n",
    "svc_gscv = gridsearch(svc, parameter, X, y)"
   ]
  },
  {
   "cell_type": "markdown",
   "metadata": {},
   "source": [
    "<hr>"
   ]
  },
  {
   "cell_type": "raw",
   "metadata": {},
   "source": [
    "lr = LogisticRegression()\n",
    "abc = AdaBoostClassifier(n_estimators=100)\n",
    "gbc = GradientBoostingClassifier(n_estimators=100)\n",
    "xgb = XGBClassifier(n_estimators=200, reg_alpha=1)\n",
    "rfc = RandomForestClassifier()"
   ]
  },
  {
   "cell_type": "raw",
   "metadata": {},
   "source": [
    "all_models = [(\"log_reg\" ,lr), (\"abc\", abc), (\"gbc\", gbc), (\"xgb\", xgb), (\"rfc\", rfc)]"
   ]
  },
  {
   "cell_type": "raw",
   "metadata": {},
   "source": [
    "X_train, X_test, y_train, y_test = train_test_split(X, y, test_size=0.3, random_state=1)\n",
    "\n",
    "vc = VotingClassifier(estimators=all_models)\n",
    "vc.fit(X_train, y_train)"
   ]
  },
  {
   "cell_type": "raw",
   "metadata": {},
   "source": [
    "y_pred_vc = vc.predict(X_test)\n",
    "print(classification_report(y_test, y_pred_vc))"
   ]
  },
  {
   "cell_type": "markdown",
   "metadata": {},
   "source": [
    "<hr><hr>"
   ]
  },
  {
   "attachments": {
    "28a9777a-034b-4445-8a69-0013f8f92662.png": {
     "image/png": "[encoded data removed]"
    },
    "2b6ca53f-02a3-47f6-a668-3530ab3817e0.png": {
     "image/png": "[encoded data removed]"
    },
    "3261fb5d-d2e8-4163-a65f-7a0d14a7c603.png": {
     "image/png": "[encoded data removed]"
    },
    "50d2bfd4-7fd5-428a-854e-c1e55dc107a9.png": {
     "image/png": "[encoded data removed]"
    },
    "7dd6ba98-33e2-4b5e-9ba5-35f354cf2005.png": {
     "image/png": "[encoded data removed]"
    },
    "82a02fa2-fefc-4cf7-80a4-1ff0089495c2.png": {
     "image/png": "[encoded data removed]"
    },
    "a62bc6e8-9010-48fa-8ca9-c0c3e2180621.png": {
     "image/png": "[encoded data removed]"
    },
    "b13aa67d-1cec-4235-a3ea-3b94ee8800a6.png": {
     "image/png": "[encoded data removed]"
    },
    "c6725cfd-50c0-48d4-b026-c9683b0dc488.png": {
     "image/png": "[encoded data removed]"
    },
    "c67e08fc-0e7c-4670-b393-5ed0e9fafcd8.png": {
     "image/png": "[encoded data removed]"
    },
    "d2362b24-3742-43fd-b80d-4b77764f22fe.png": {
     "image/png": "[encoded data removed]"
    }
   },
   "cell_type": "markdown",
   "metadata": {},
   "source": [
    "# Conclusion\n",
    "\n",
    "<b>The overall project went through changes from start till the end.</b><br>\n",
    "\n",
    "#### Version 1.0\n",
    "<b>Most time was spent on this version. Here is all that was done - <br>\n",
    "    1) Read and analyzed dataset.<br>\n",
    "    2) Removed 'Gender' as it had 71% null values.<br>\n",
    "    3) Performed Label Encoding.<br>\n",
    "    4) Created defintions for fitting and predicting models.<br>\n",
    "    5) Skewness, Outliers, Scaling, Chi-Squared Test, Boosting.</b><br><br>\n",
    "<b><u>Result - </u>The scores achieved for each and every model in this version was zero (as you can see below). A different approach was required.</b><br><br>\n",
    "\n",
    "![image.png](attachment:7dd6ba98-33e2-4b5e-9ba5-35f354cf2005.png)\n",
    "![image.png](attachment:50d2bfd4-7fd5-428a-854e-c1e55dc107a9.png)\n",
    "\n",
    "    \n",
    "#### Version 2.0\n",
    "<b>From this version onwards, Sampling techniques were added. This helped increase the score value greatly. The definition added was 'sampling(df)'. This technique manually applied undersampling. Some of the best scores achieved are shown below. Also, updates we done to Boosting. Along with other models, they were added to Bagging Classifier with parameters, and then passed to GridSearchCV.</b><br>\n",
    "\n",
    "<b>Adaboost Baseline Sampling</b><br>\n",
    "![image.png](attachment:82a02fa2-fefc-4cf7-80a4-1ff0089495c2.png)\n",
    "\n",
    "<b>RandomForest Skew Sampling</b><br>\n",
    "![image.png](attachment:c6725cfd-50c0-48d4-b026-c9683b0dc488.png)\n",
    "\n",
    "<b>XGBoost and RandomForest Scaling Sampling</b><br>\n",
    "![image.png](attachment:a62bc6e8-9010-48fa-8ca9-c0c3e2180621.png)\n",
    "    \n",
    "<b>Gradient Boosting GridSearch Sampling</b><br>\n",
    "![image.png](attachment:28a9777a-034b-4445-8a69-0013f8f92662.png)\n",
    "    \n",
    "<b>LinearSVC Baseline Sampling</b><br>\n",
    "![image.png](attachment:3261fb5d-d2e8-4163-a65f-7a0d14a7c603.png)\n",
    "    \n",
    "<b>LinearSVC Outliers Sampling</b><br>\n",
    "![image.png](attachment:b13aa67d-1cec-4235-a3ea-3b94ee8800a6.png)\n",
    "   \n",
    "\n",
    "#### Final Version\n",
    "<b>Here, we added the function 'under_sample()' and 'over_sample()'. All Boosting, Bagging, and GridSearch code blocks were changed to Raw in this version. Reason being that Over Sampling greatly increased the score values right from the Baseline models (screenshot below) onwards, especially for DecisionTree, XGBoost, and RandomForest.</b><br>\n",
    "\n",
    "![image.png](attachment:2b6ca53f-02a3-47f6-a668-3530ab3817e0.png)\n",
    "\n",
    "![image.png](attachment:c67e08fc-0e7c-4670-b393-5ed0e9fafcd8.png)\n",
    "\n",
    "![image.png](attachment:d2362b24-3742-43fd-b80d-4b77764f22fe.png)\n",
    "\n",
    "<b>Overall, RandomForest produced the best results. Even after some EDA and Preprocessing, the score for RandomForest we all the same as the above Baseline RandomForest model.</b><br>\n",
    "<b>For this, we saved the model 'rfc_under' into a serial file through Pickle.</b><br>\n"
   ]
  }
 ],
 "metadata": {
  "kernelspec": {
   "display_name": "Python 3",
   "language": "python",
   "name": "python3"
  },
  "language_info": {
   "codemirror_mode": {
    "name": "ipython",
    "version": 3
   },
   "file_extension": ".py",
   "mimetype": "text/x-python",
   "name": "python",
   "nbconvert_exporter": "python",
   "pygments_lexer": "ipython3",
   "version": "3.8.5"
  }
 },
 "nbformat": 4,
 "nbformat_minor": 4
}
